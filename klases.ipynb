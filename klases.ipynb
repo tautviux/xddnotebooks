{
 "cells": [
  {
   "cell_type": "code",
   "execution_count": 2,
   "metadata": {},
   "outputs": [
    {
     "name": "stdout",
     "output_type": "stream",
     "text": [
      "Testas\n"
     ]
    }
   ],
   "source": [
    "print('Testas')"
   ]
  },
  {
   "cell_type": "code",
   "execution_count": 4,
   "metadata": {},
   "outputs": [
    {
     "name": "stdout",
     "output_type": "stream",
     "text": [
      "<class 'str'>\n",
      "<class 'int'>\n",
      "<class 'list'>\n"
     ]
    }
   ],
   "source": [
    "# klases\n",
    "s = 'tekstas'\n",
    "sk = 7\n",
    "sar = []\n",
    "print(type(s), type(sk), type(sar), sep= '\\n')\n",
    "s.upper()"
   ]
  },
  {
   "cell_type": "code",
   "execution_count": 52,
   "metadata": {},
   "outputs": [],
   "source": [
    "def calculateAge():\n",
    "  return 'Cha!!!'\n",
    "\n",
    "\n",
    "class Asmuo():\n",
    "  def __init__(self, name, gm):\n",
    "    self.Name = name # klases atributas (tiesiog kintamasis, esantis klases viduje)\n",
    "    self.BYear = gm\n",
    "    self.Age = self.calculateAge() #kaip kreiptis i metoda is kito metodo\n",
    "    pass\n",
    "  \n",
    "  def getname(self):\n",
    "      return self.Name\n",
    "  \n",
    "  def setName(self, new_name):\n",
    "    self.Name = new_name\n",
    "    \n",
    "  def calculateAge(self):\n",
    "    return 2024-self.BYear\n",
    "    \n",
    "  "
   ]
  },
  {
   "cell_type": "code",
   "execution_count": 53,
   "metadata": {},
   "outputs": [
    {
     "name": "stdout",
     "output_type": "stream",
     "text": [
      "28 Vardenis\n"
     ]
    }
   ],
   "source": [
    "a1 = Asmuo('Vardenis', 1996)\n",
    "print(a1.Age, a1.getname())"
   ]
  },
  {
   "cell_type": "code",
   "execution_count": 59,
   "metadata": {},
   "outputs": [],
   "source": [
    "# paveldejimas\n",
    "\n",
    "class Studentas(Asmuo):\n",
    "  def getStatus(self):\n",
    "    return 'Studentas'\n",
    "\n"
   ]
  },
  {
   "cell_type": "code",
   "execution_count": 60,
   "metadata": {},
   "outputs": [],
   "source": [
    "std1 = Studentas('une', 1992)"
   ]
  },
  {
   "cell_type": "code",
   "execution_count": 61,
   "metadata": {},
   "outputs": [
    {
     "name": "stdout",
     "output_type": "stream",
     "text": [
      "32 une\n"
     ]
    }
   ],
   "source": [
    "print(std1.Age, std1.getname())"
   ]
  },
  {
   "cell_type": "code",
   "execution_count": 62,
   "metadata": {},
   "outputs": [
    {
     "data": {
      "text/plain": [
       "'Studentas'"
      ]
     },
     "execution_count": 62,
     "metadata": {},
     "output_type": "execute_result"
    }
   ],
   "source": [
    "std1.getStatus()"
   ]
  },
  {
   "cell_type": "code",
   "execution_count": 66,
   "metadata": {},
   "outputs": [],
   "source": [
    "# sudetingesnis paveldijimo atvejis\n",
    "\n",
    "class Studentas(Asmuo):\n",
    "  def __init__(self, name , gm):\n",
    "    super().__init__(name, gm)\n",
    "    self.Enroll = True\n",
    "    \n",
    "std1 = Studentas('une', 1996)\n"
   ]
  },
  {
   "cell_type": "code",
   "execution_count": 68,
   "metadata": {},
   "outputs": [
    {
     "name": "stdout",
     "output_type": "stream",
     "text": [
      "28 True\n"
     ]
    }
   ],
   "source": [
    "print(std1.Age, std1.Enroll)"
   ]
  },
  {
   "cell_type": "code",
   "execution_count": 92,
   "metadata": {},
   "outputs": [
    {
     "name": "stdout",
     "output_type": "stream",
     "text": [
      "36\n"
     ]
    }
   ],
   "source": [
    "# aprašykite klasę Kvadratas\n",
    "# kreipiantis į klasę, reikia nurodyti kvadrato ilgį a.\n",
    "# Klasė turi turėti atributą Plotas, kurį \n",
    "# turi apskaičiuoti klasės kūrimo metu.\n",
    "# Plotas = a*a\n",
    "# parašykite metodą, kuris grąžintų apskaičiuoto Plotas atributo reikšmę.\n",
    "\n",
    "class Kvadratas():\n",
    "  def __init__(self, a):\n",
    "    self.Plotas = a*a   \n",
    "    pass  \n",
    "  def plotas(self):\n",
    "    return self.Plotas\n",
    "  \n",
    "Kvadratu = Kvadratas(a=6)\n",
    "print(Kvadratu.plotas())\n",
    "\n"
   ]
  },
  {
   "cell_type": "code",
   "execution_count": 95,
   "metadata": {},
   "outputs": [
    {
     "name": "stdout",
     "output_type": "stream",
     "text": [
      "156\n",
      "50\n"
     ]
    }
   ],
   "source": [
    "# aprašykite klasę Rectangle\n",
    "# kreipiantis į klasę, reikia nurodyti stačiakampio\n",
    "# kraštines a ir b.\n",
    "# Realizuokite atributą Plotas = a*b\n",
    "# ir metodą, grąžinantį Ploto reikšmę\n",
    "# Taip pat pridėkite metodą, apskaičiuojantį ir grąžinantį\n",
    "# perimetrą P=2(a+b)\n",
    "\n",
    "class Rectangle():\n",
    "  def __init__(self, a, b):\n",
    "    self.Plotas = a*b\n",
    "    self.Perimetras = 2*(a+b)\n",
    "    \n",
    "    pass\n",
    "    \n",
    "  def Staciakampis(self):\n",
    "    return self.Plotas\n",
    "  \n",
    "  def perimetru(self):\n",
    "    return self.Perimetras\n",
    "\n",
    "perimetras = Rectangle(a=12,b=13)\n",
    "staciakampis = Rectangle(a=12,b=13)\n",
    "print(staciakampis.Staciakampis())\n",
    "print(perimetras.perimetru())\n",
    "    "
   ]
  },
  {
   "cell_type": "code",
   "execution_count": 98,
   "metadata": {},
   "outputs": [
    {
     "name": "stdout",
     "output_type": "stream",
     "text": [
      "156\n",
      "50\n",
      "2184\n"
     ]
    }
   ],
   "source": [
    "class Kubas(Rectangle):\n",
    "  def __init__(self, a, b, c):\n",
    "    super().__init__(a, b,)\n",
    "    self.Kubas = a*b*c\n",
    "  def kubas(self):\n",
    "    return self.Kubas\n",
    "  \n",
    "perimetras = Rectangle(a=12,b=13)\n",
    "staciakampis = Rectangle(a=12,b=13)\n",
    "Kubikas = Kubas(a=12,b=13,c=14)\n",
    "print(staciakampis.Staciakampis())\n",
    "print(perimetras.perimetru())\n",
    "print(Kubikas.kubas())\n",
    "    "
   ]
  },
  {
   "cell_type": "code",
   "execution_count": 102,
   "metadata": {},
   "outputs": [
    {
     "name": "stdout",
     "output_type": "stream",
     "text": [
      "Laba diena\n"
     ]
    }
   ],
   "source": [
    "#susikurkite su Notepadu tekstinį failą su bet kokiu tekstu\n",
    "#parašykite klasę TxtReader, kuriai kreipimosimetu būtų nurodomas tekstinio failo pavadinimas;\n",
    "#klasės sukūrimo metu tas tekstinis failas turi būti nuskaitomas\n",
    "#ir nuskaitytas tekstas turi būti priskirtas atributui Text\n",
    "#parašykite metodą getText(), kuri grąžintų atributo text reikšmę\\\n",
    "\n",
    "class TxtReader:\n",
    "    def __init__(self, filename):\n",
    "        self.text = \"\"\n",
    "        with open(filename, 'r') as file:\n",
    "            self.text = file.read()\n",
    "            \n",
    "\n",
    "    def getText(self):\n",
    "        return self.text\n",
    "\n",
    "reader = TxtReader(\"xdd.txt\")\n",
    "text = reader.getText()\n",
    "print(text)"
   ]
  },
  {
   "cell_type": "code",
   "execution_count": 110,
   "metadata": {},
   "outputs": [
    {
     "ename": "ValueError",
     "evalue": "could not convert string to float: '86;0'",
     "output_type": "error",
     "traceback": [
      "\u001b[1;31m---------------------------------------------------------------------------\u001b[0m",
      "\u001b[1;31mValueError\u001b[0m                                Traceback (most recent call last)",
      "Cell \u001b[1;32mIn[110], line 45\u001b[0m\n\u001b[0;32m     42\u001b[0m     \u001b[38;5;28;01melif\u001b[39;00m attribute \u001b[38;5;241m==\u001b[39m \u001b[38;5;124m'\u001b[39m\u001b[38;5;124mZ\u001b[39m\u001b[38;5;124m'\u001b[39m:\n\u001b[0;32m     43\u001b[0m         \u001b[38;5;28;01mreturn\u001b[39;00m \u001b[38;5;28mmax\u001b[39m(\u001b[38;5;28mself\u001b[39m\u001b[38;5;241m.\u001b[39mZ)\n\u001b[1;32m---> 45\u001b[0m analyzer \u001b[38;5;241m=\u001b[39m \u001b[43mTxtAnalyzer\u001b[49m\u001b[43m(\u001b[49m\u001b[38;5;124;43m'\u001b[39;49m\u001b[38;5;124;43mdata2.txt\u001b[39;49m\u001b[38;5;124;43m'\u001b[39;49m\u001b[43m,\u001b[49m\u001b[43m \u001b[49m\u001b[38;5;124;43m'\u001b[39;49m\u001b[38;5;124;43m,\u001b[39;49m\u001b[38;5;124;43m'\u001b[39;49m\u001b[43m)\u001b[49m \n\u001b[0;32m     46\u001b[0m \u001b[38;5;28mprint\u001b[39m(analyzer\u001b[38;5;241m.\u001b[39mget_average(\u001b[38;5;124m'\u001b[39m\u001b[38;5;124mX\u001b[39m\u001b[38;5;124m'\u001b[39m)) \n\u001b[0;32m     47\u001b[0m \u001b[38;5;28mprint\u001b[39m(analyzer\u001b[38;5;241m.\u001b[39mget_min(\u001b[38;5;124m'\u001b[39m\u001b[38;5;124mY\u001b[39m\u001b[38;5;124m'\u001b[39m)) \n",
      "Cell \u001b[1;32mIn[110], line 17\u001b[0m, in \u001b[0;36mTxtAnalyzer.__init__\u001b[1;34m(self, file_name, delimiter)\u001b[0m\n\u001b[0;32m     15\u001b[0m \u001b[38;5;28;01mfor\u001b[39;00m line \u001b[38;5;129;01min\u001b[39;00m file:\n\u001b[0;32m     16\u001b[0m     columns \u001b[38;5;241m=\u001b[39m line\u001b[38;5;241m.\u001b[39mstrip()\u001b[38;5;241m.\u001b[39msplit(delimiter)\n\u001b[1;32m---> 17\u001b[0m     \u001b[38;5;28mself\u001b[39m\u001b[38;5;241m.\u001b[39mX\u001b[38;5;241m.\u001b[39mappend(\u001b[38;5;28;43mfloat\u001b[39;49m\u001b[43m(\u001b[49m\u001b[43mcolumns\u001b[49m\u001b[43m[\u001b[49m\u001b[38;5;241;43m0\u001b[39;49m\u001b[43m]\u001b[49m\u001b[43m)\u001b[49m)\n\u001b[0;32m     18\u001b[0m     \u001b[38;5;28mself\u001b[39m\u001b[38;5;241m.\u001b[39mY\u001b[38;5;241m.\u001b[39mappend(\u001b[38;5;28mfloat\u001b[39m(columns[\u001b[38;5;241m1\u001b[39m]))\n\u001b[0;32m     19\u001b[0m     \u001b[38;5;28mself\u001b[39m\u001b[38;5;241m.\u001b[39mZ\u001b[38;5;241m.\u001b[39mappend(\u001b[38;5;28mfloat\u001b[39m(columns[\u001b[38;5;241m2\u001b[39m]))\n",
      "\u001b[1;31mValueError\u001b[0m: could not convert string to float: '86;0'"
     ]
    }
   ],
   "source": [
    "#parašykite klasę TxtAnalyzer, \n",
    "# kuriai kreipimosi metu galima būtų nurodyti failo pavadinimą ir stulpelių skirtuką.\n",
    "#klasė sukūrimo metu turi nuskaityti failą, \n",
    "# stulpelius skaičių suskirstyti į sąrašus ir juos priskirti atributams X, Y ir Z.\n",
    "#Realizuokite metodus, kurie grąžintų X, Y, Z sąrašų vidurkius, \n",
    "# minimalias ir maksimalias vertes. Pythone yra min, max, sum funkcijos;\n",
    "\n",
    "class TxtAnalyzer: \n",
    "  def __init__(self, file_name, delimiter): \n",
    "    self.X = [] \n",
    "    self.Y = [] \n",
    "    self.Z = []\n",
    "    \n",
    "    with open(file_name, 'r') as file:\n",
    "        for line in file:\n",
    "            columns = line.strip().split(delimiter)\n",
    "            self.X.append(float(columns[0]))\n",
    "            self.Y.append(float(columns[1]))\n",
    "            self.Z.append(float(columns[2]))\n",
    "\n",
    "def get_average(self, attribute):\n",
    "    if attribute == 'X':\n",
    "        return sum(self.X) / len(self.X)\n",
    "    elif attribute == 'Y':\n",
    "        return sum(self.Y) / len(self.Y)\n",
    "    elif attribute == 'Z':\n",
    "        return sum(self.Z) / len(self.Z)\n",
    "\n",
    "def get_min(self, attribute):\n",
    "    if attribute == 'X':\n",
    "        return min(self.X)\n",
    "    elif attribute == 'Y':\n",
    "        return min(self.Y)\n",
    "    elif attribute == 'Z':\n",
    "        return min(self.Z)\n",
    "\n",
    "def get_max(self, attribute):\n",
    "    if attribute == 'X':\n",
    "        return max(self.X)\n",
    "    elif attribute == 'Y':\n",
    "        return max(self.Y)\n",
    "    elif attribute == 'Z':\n",
    "        return max(self.Z)\n",
    "  \n",
    "analyzer = TxtAnalyzer('data2.txt', ',') \n",
    "print(analyzer.get_average('X')) \n",
    "print(analyzer.get_min('Y')) \n",
    "print(analyzer.get_max('Z'))"
   ]
  },
  {
   "cell_type": "code",
   "execution_count": 111,
   "metadata": {},
   "outputs": [
    {
     "name": "stdout",
     "output_type": "stream",
     "text": [
      "Tūris: 523.3333333333334\n"
     ]
    },
    {
     "ename": "AttributeError",
     "evalue": "'Rutulys' object has no attribute 'skaiciuoti_ploti'",
     "output_type": "error",
     "traceback": [
      "\u001b[1;31m---------------------------------------------------------------------------\u001b[0m",
      "\u001b[1;31mAttributeError\u001b[0m                            Traceback (most recent call last)",
      "Cell \u001b[1;32mIn[111], line 20\u001b[0m\n\u001b[0;32m     18\u001b[0m rutulys \u001b[38;5;241m=\u001b[39m Rutulys(\u001b[38;5;241m5\u001b[39m) \n\u001b[0;32m     19\u001b[0m \u001b[38;5;28mprint\u001b[39m(\u001b[38;5;124m\"\u001b[39m\u001b[38;5;124mTūris:\u001b[39m\u001b[38;5;124m\"\u001b[39m, rutulys\u001b[38;5;241m.\u001b[39mskaiciuoti_turi()) \n\u001b[1;32m---> 20\u001b[0m \u001b[38;5;28mprint\u001b[39m(\u001b[38;5;124m\"\u001b[39m\u001b[38;5;124mPaviršiaus plotas:\u001b[39m\u001b[38;5;124m\"\u001b[39m, \u001b[43mrutulys\u001b[49m\u001b[38;5;241;43m.\u001b[39;49m\u001b[43mskaiciuoti_ploti\u001b[49m())\n\u001b[0;32m     22\u001b[0m rutulys\u001b[38;5;241m.\u001b[39mpakeisti_spindulio_reiksme(\u001b[38;5;241m7\u001b[39m) \n\u001b[0;32m     23\u001b[0m \u001b[38;5;28mprint\u001b[39m(\u001b[38;5;124m\"\u001b[39m\u001b[38;5;124mPo spindulio pakeitimo:\u001b[39m\u001b[38;5;124m\"\u001b[39m) \n",
      "\u001b[1;31mAttributeError\u001b[0m: 'Rutulys' object has no attribute 'skaiciuoti_ploti'"
     ]
    }
   ],
   "source": [
    "#Sukurkite klasę Rutulys\n",
    "#kuriai galėtumėte nurodyti Rutulio spindulį r.\n",
    "#Sukurkite metodus, skirtus rasti jo Tūriui ir paviršiaus plotui;\n",
    "#Taip pat metodą, kuriuo jūs pakeistumėte spindulio r reikšmę.\n",
    "\n",
    "class Rutulys: \n",
    "  def __init__(self, spindulys): \n",
    "    self.spindulys = spindulys\n",
    "  def skaiciuoti_turi(self):\n",
    "    return (4/3) * 3.14 * self.spindulys ** 3\n",
    "\n",
    "def skaiciuoti_ploti(self):\n",
    "    return 4 * 3.14 * self.spindulys ** 2\n",
    "\n",
    "def pakeisti_spindulio_reiksme(self, naujas_spindulys):\n",
    "    self.spindulys = naujas_spindulys\n",
    "    \n",
    "rutulys = Rutulys(5) \n",
    "print(\"Tūris:\", rutulys.skaiciuoti_turi()) \n",
    "print(\"Paviršiaus plotas:\", rutulys.skaiciuoti_ploti())\n",
    "\n",
    "rutulys.pakeisti_spindulio_reiksme(7) \n",
    "print(\"Po spindulio pakeitimo:\") \n",
    "print(\"Tūris:\", rutulys.skaiciuoti_turi()) \n",
    "print(\"Paviršiaus plotas:\", rutulys.skaiciuoti_ploti())"
   ]
  },
  {
   "cell_type": "code",
   "execution_count": 112,
   "metadata": {},
   "outputs": [
    {
     "name": "stdout",
     "output_type": "stream",
     "text": [
      "2826.0\n",
      "14130.0\n",
      "7234.56\n",
      "57876.479999999996\n"
     ]
    }
   ],
   "source": [
    "#Sukurkite klasę Rutulys\n",
    "#kuriai galėtumėte nurodyti Rutulio spindulį r.\n",
    "#Sukurkite metodus, skirtus rasti jo Tūriui ir paviršiaus plotui;\n",
    "#Taip pat metodą, kuriuo jūs pakeistumėte spindulio r reikšmę.\n",
    "\n",
    "class Rutulys():\n",
    "    def __init__ (self, r):\n",
    "        self.r = r\n",
    "           \n",
    "    def getPav_Plotas(self):\n",
    "        Pav_Plotas = 4*3.14*self.r**2\n",
    "        return Pav_Plotas\n",
    "\n",
    "    def getTūris(self):\n",
    "        Tūris = 4/3*3.14*self.r**3\n",
    "        return Tūris\n",
    "    \n",
    "    def changer(self, new_r):\n",
    "        self.r = new_r\n",
    "        \n",
    "r = int(input(\"Įveskite spindulį r\"))\n",
    "    \n",
    "rutulys  = Rutulys(r)\n",
    "print(rutulys.getPav_Plotas())\n",
    "print(rutulys.getTūris())\n",
    "\n",
    "r = int(input(\"Įveskite spindulį r\"))\n",
    "rutulys.changer(r)\n",
    "\n",
    "print(rutulys.getPav_Plotas())\n",
    "print(rutulys.getTūris())"
   ]
  },
  {
   "cell_type": "code",
   "execution_count": 2,
   "metadata": {},
   "outputs": [
    {
     "name": "stdout",
     "output_type": "stream",
     "text": [
      "Plotas: /n50/nPerimetras: /n30\n",
      "Piramides turis:  10.0\n",
      "Kubo turis:  30\n"
     ]
    }
   ],
   "source": [
    "class Rectangle():\n",
    "\n",
    "    def __init__(self, a, b): \n",
    "\n",
    "        self.S = a * b\n",
    "\n",
    "        self.P = 2*(a + b)\n",
    "\n",
    "    def getP(self):      \n",
    "\n",
    "        return self.P\n",
    "\n",
    "    def getS(self):      \n",
    "\n",
    "        return self.S\n",
    "\n",
    "figura = Rectangle(a=10, b=5)\n",
    "\n",
    "print(\"Plotas: \", figura.getS(), \"Perimetras: \",figura.getP(), sep= '/n') \n",
    " \n",
    " \n",
    "class Piramide(Rectangle):\n",
    "\n",
    "    def __init__ (self, a, b, h):\n",
    "\n",
    "        super().__init__(a, b) # cia atkeliavo is Rectangle funkcijos, 9 eilute\n",
    "\n",
    "        self.h = h\n",
    "\n",
    "    def get_piramides_turis(self):\n",
    "\n",
    "        Turis = 1/3*self.S*self.h\n",
    "\n",
    "        return Turis\n",
    "\n",
    "figura = Piramide(a= 2, b=3, h=5)\n",
    "\n",
    "print(\"Piramides turis: \", figura.get_piramides_turis())\n",
    "\n",
    "class Kubas(Rectangle):\n",
    "\n",
    "    def __init__ (self, a, b, h):\n",
    "\n",
    "        super().__init__(a, b) # cia atkeliavo is Rectangle funkcijos, 9 eilute\n",
    "\n",
    "        self.a = h\n",
    "\n",
    "    def getKubo_turis(self):\n",
    "\n",
    "        Turis = self.S*self.a\n",
    "\n",
    "        return Turis\n",
    "\n",
    "figura = Kubas(a= 2, b=5, h= 3)\n",
    "\n",
    "print(\"Kubo turis: \", figura.getKubo_turis())"
   ]
  },
  {
   "cell_type": "code",
   "execution_count": null,
   "metadata": {},
   "outputs": [],
   "source": []
  }
 ],
 "metadata": {
  "kernelspec": {
   "display_name": "Python 3",
   "language": "python",
   "name": "python3"
  },
  "language_info": {
   "codemirror_mode": {
    "name": "ipython",
    "version": 3
   },
   "file_extension": ".py",
   "mimetype": "text/x-python",
   "name": "python",
   "nbconvert_exporter": "python",
   "pygments_lexer": "ipython3",
   "version": "3.12.2"
  }
 },
 "nbformat": 4,
 "nbformat_minor": 2
}
