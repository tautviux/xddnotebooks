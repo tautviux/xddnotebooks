{
 "cells": [
  {
   "cell_type": "code",
   "execution_count": 2,
   "metadata": {},
   "outputs": [
    {
     "name": "stdout",
     "output_type": "stream",
     "text": [
      "Testas\n"
     ]
    }
   ],
   "source": [
    "print('Testas')"
   ]
  },
  {
   "cell_type": "code",
   "execution_count": 4,
   "metadata": {},
   "outputs": [
    {
     "name": "stdout",
     "output_type": "stream",
     "text": [
      "<class 'str'>\n",
      "<class 'int'>\n",
      "<class 'list'>\n"
     ]
    }
   ],
   "source": [
    "# klases\n",
    "s = 'tekstas'\n",
    "sk = 7\n",
    "sar = []\n",
    "print(type(s), type(sk), type(sar), sep= '\\n')\n",
    "s.upper()"
   ]
  },
  {
   "cell_type": "code",
   "execution_count": 52,
   "metadata": {},
   "outputs": [],
   "source": [
    "def calculateAge():\n",
    "  return 'Cha!!!'\n",
    "\n",
    "\n",
    "class Asmuo():\n",
    "  def __init__(self, name, gm):\n",
    "    self.Name = name # klases atributas (tiesiog kintamasis, esantis klases viduje)\n",
    "    self.BYear = gm\n",
    "    self.Age = self.calculateAge() #kaip kreiptis i metoda is kito metodo\n",
    "    pass\n",
    "  \n",
    "  def getname(self):\n",
    "      return self.Name\n",
    "  \n",
    "  def setName(self, new_name):\n",
    "    self.Name = new_name\n",
    "    \n",
    "  def calculateAge(self):\n",
    "    return 2024-self.BYear\n",
    "    \n",
    "  "
   ]
  },
  {
   "cell_type": "code",
   "execution_count": 53,
   "metadata": {},
   "outputs": [
    {
     "name": "stdout",
     "output_type": "stream",
     "text": [
      "28 Vardenis\n"
     ]
    }
   ],
   "source": [
    "a1 = Asmuo('Vardenis', 1996)\n",
    "print(a1.Age, a1.getname())"
   ]
  },
  {
   "cell_type": "code",
   "execution_count": 59,
   "metadata": {},
   "outputs": [],
   "source": [
    "# paveldejimas\n",
    "\n",
    "class Studentas(Asmuo):\n",
    "  def getStatus(self):\n",
    "    return 'Studentas'\n",
    "\n"
   ]
  },
  {
   "cell_type": "code",
   "execution_count": 60,
   "metadata": {},
   "outputs": [],
   "source": [
    "std1 = Studentas('une', 1992)"
   ]
  },
  {
   "cell_type": "code",
   "execution_count": 61,
   "metadata": {},
   "outputs": [
    {
     "name": "stdout",
     "output_type": "stream",
     "text": [
      "32 une\n"
     ]
    }
   ],
   "source": [
    "print(std1.Age, std1.getname())"
   ]
  },
  {
   "cell_type": "code",
   "execution_count": 62,
   "metadata": {},
   "outputs": [
    {
     "data": {
      "text/plain": [
       "'Studentas'"
      ]
     },
     "execution_count": 62,
     "metadata": {},
     "output_type": "execute_result"
    }
   ],
   "source": [
    "std1.getStatus()"
   ]
  },
  {
   "cell_type": "code",
   "execution_count": 66,
   "metadata": {},
   "outputs": [],
   "source": [
    "# sudetingesnis paveldijimo atvejis\n",
    "\n",
    "class Studentas(Asmuo):\n",
    "  def __init__(self, name , gm):\n",
    "    super().__init__(name, gm)\n",
    "    self.Enroll = True\n",
    "    \n",
    "std1 = Studentas('une', 1996)\n"
   ]
  },
  {
   "cell_type": "code",
   "execution_count": 68,
   "metadata": {},
   "outputs": [
    {
     "name": "stdout",
     "output_type": "stream",
     "text": [
      "28 True\n"
     ]
    }
   ],
   "source": [
    "print(std1.Age, std1.Enroll)"
   ]
  },
  {
   "cell_type": "code",
   "execution_count": 92,
   "metadata": {},
   "outputs": [
    {
     "name": "stdout",
     "output_type": "stream",
     "text": [
      "36\n"
     ]
    }
   ],
   "source": [
    "# aprašykite klasę Kvadratas\n",
    "# kreipiantis į klasę, reikia nurodyti kvadrato ilgį a.\n",
    "# Klasė turi turėti atributą Plotas, kurį \n",
    "# turi apskaičiuoti klasės kūrimo metu.\n",
    "# Plotas = a*a\n",
    "# parašykite metodą, kuris grąžintų apskaičiuoto Plotas atributo reikšmę.\n",
    "\n",
    "class Kvadratas():\n",
    "  def __init__(self, a):\n",
    "    self.Plotas = a*a   \n",
    "    pass  \n",
    "  def plotas(self):\n",
    "    return self.Plotas\n",
    "  \n",
    "Kvadratu = Kvadratas(a=6)\n",
    "print(Kvadratu.plotas())\n",
    "\n"
   ]
  },
  {
   "cell_type": "code",
   "execution_count": 95,
   "metadata": {},
   "outputs": [
    {
     "name": "stdout",
     "output_type": "stream",
     "text": [
      "156\n",
      "50\n"
     ]
    }
   ],
   "source": [
    "# aprašykite klasę Rectangle\n",
    "# kreipiantis į klasę, reikia nurodyti stačiakampio\n",
    "# kraštines a ir b.\n",
    "# Realizuokite atributą Plotas = a*b\n",
    "# ir metodą, grąžinantį Ploto reikšmę\n",
    "# Taip pat pridėkite metodą, apskaičiuojantį ir grąžinantį\n",
    "# perimetrą P=2(a+b)\n",
    "\n",
    "class Rectangle():\n",
    "  def __init__(self, a, b):\n",
    "    self.Plotas = a*b\n",
    "    self.Perimetras = 2*(a+b)\n",
    "    \n",
    "    pass\n",
    "    \n",
    "  def Staciakampis(self):\n",
    "    return self.Plotas\n",
    "  \n",
    "  def perimetru(self):\n",
    "    return self.Perimetras\n",
    "\n",
    "perimetras = Rectangle(a=12,b=13)\n",
    "staciakampis = Rectangle(a=12,b=13)\n",
    "print(staciakampis.Staciakampis())\n",
    "print(perimetras.perimetru())\n",
    "    "
   ]
  },
  {
   "cell_type": "code",
   "execution_count": 98,
   "metadata": {},
   "outputs": [
    {
     "name": "stdout",
     "output_type": "stream",
     "text": [
      "156\n",
      "50\n",
      "2184\n"
     ]
    }
   ],
   "source": [
    "class Kubas(Rectangle):\n",
    "  def __init__(self, a, b, c):\n",
    "    super().__init__(a, b,)\n",
    "    self.Kubas = a*b*c\n",
    "  def kubas(self):\n",
    "    return self.Kubas\n",
    "  \n",
    "perimetras = Rectangle(a=12,b=13)\n",
    "staciakampis = Rectangle(a=12,b=13)\n",
    "Kubikas = Kubas(a=12,b=13,c=14)\n",
    "print(staciakampis.Staciakampis())\n",
    "print(perimetras.perimetru())\n",
    "print(Kubikas.kubas())\n",
    "    "
   ]
  },
  {
   "cell_type": "code",
   "execution_count": 102,
   "metadata": {},
   "outputs": [
    {
     "name": "stdout",
     "output_type": "stream",
     "text": [
      "Laba diena\n"
     ]
    }
   ],
   "source": [
    "#susikurkite su Notepadu tekstinį failą su bet kokiu tekstu\n",
    "#parašykite klasę TxtReader, kuriai kreipimosimetu būtų nurodomas tekstinio failo pavadinimas;\n",
    "#klasės sukūrimo metu tas tekstinis failas turi būti nuskaitomas\n",
    "#ir nuskaitytas tekstas turi būti priskirtas atributui Text\n",
    "#parašykite metodą getText(), kuri grąžintų atributo text reikšmę\\\n",
    "\n",
    "class TxtReader:\n",
    "    def __init__(self, filename):\n",
    "        self.text = \"\"\n",
    "        with open(filename, 'r') as file:\n",
    "            self.text = file.read()\n",
    "            \n",
    "\n",
    "    def getText(self):\n",
    "        return self.text\n",
    "\n",
    "reader = TxtReader(\"xdd.txt\")\n",
    "text = reader.getText()\n",
    "print(text)"
   ]
  },
  {
   "cell_type": "code",
   "execution_count": 110,
   "metadata": {},
   "outputs": [
    {
     "ename": "ValueError",
     "evalue": "could not convert string to float: '86;0'",
     "output_type": "error",
     "traceback": [
      "\u001b[1;31m---------------------------------------------------------------------------\u001b[0m",
      "\u001b[1;31mValueError\u001b[0m                                Traceback (most recent call last)",
      "Cell \u001b[1;32mIn[110], line 45\u001b[0m\n\u001b[0;32m     42\u001b[0m     \u001b[38;5;28;01melif\u001b[39;00m attribute \u001b[38;5;241m==\u001b[39m \u001b[38;5;124m'\u001b[39m\u001b[38;5;124mZ\u001b[39m\u001b[38;5;124m'\u001b[39m:\n\u001b[0;32m     43\u001b[0m         \u001b[38;5;28;01mreturn\u001b[39;00m \u001b[38;5;28mmax\u001b[39m(\u001b[38;5;28mself\u001b[39m\u001b[38;5;241m.\u001b[39mZ)\n\u001b[1;32m---> 45\u001b[0m analyzer \u001b[38;5;241m=\u001b[39m \u001b[43mTxtAnalyzer\u001b[49m\u001b[43m(\u001b[49m\u001b[38;5;124;43m'\u001b[39;49m\u001b[38;5;124;43mdata2.txt\u001b[39;49m\u001b[38;5;124;43m'\u001b[39;49m\u001b[43m,\u001b[49m\u001b[43m \u001b[49m\u001b[38;5;124;43m'\u001b[39;49m\u001b[38;5;124;43m,\u001b[39;49m\u001b[38;5;124;43m'\u001b[39;49m\u001b[43m)\u001b[49m \n\u001b[0;32m     46\u001b[0m \u001b[38;5;28mprint\u001b[39m(analyzer\u001b[38;5;241m.\u001b[39mget_average(\u001b[38;5;124m'\u001b[39m\u001b[38;5;124mX\u001b[39m\u001b[38;5;124m'\u001b[39m)) \n\u001b[0;32m     47\u001b[0m \u001b[38;5;28mprint\u001b[39m(analyzer\u001b[38;5;241m.\u001b[39mget_min(\u001b[38;5;124m'\u001b[39m\u001b[38;5;124mY\u001b[39m\u001b[38;5;124m'\u001b[39m)) \n",
      "Cell \u001b[1;32mIn[110], line 17\u001b[0m, in \u001b[0;36mTxtAnalyzer.__init__\u001b[1;34m(self, file_name, delimiter)\u001b[0m\n\u001b[0;32m     15\u001b[0m \u001b[38;5;28;01mfor\u001b[39;00m line \u001b[38;5;129;01min\u001b[39;00m file:\n\u001b[0;32m     16\u001b[0m     columns \u001b[38;5;241m=\u001b[39m line\u001b[38;5;241m.\u001b[39mstrip()\u001b[38;5;241m.\u001b[39msplit(delimiter)\n\u001b[1;32m---> 17\u001b[0m     \u001b[38;5;28mself\u001b[39m\u001b[38;5;241m.\u001b[39mX\u001b[38;5;241m.\u001b[39mappend(\u001b[38;5;28;43mfloat\u001b[39;49m\u001b[43m(\u001b[49m\u001b[43mcolumns\u001b[49m\u001b[43m[\u001b[49m\u001b[38;5;241;43m0\u001b[39;49m\u001b[43m]\u001b[49m\u001b[43m)\u001b[49m)\n\u001b[0;32m     18\u001b[0m     \u001b[38;5;28mself\u001b[39m\u001b[38;5;241m.\u001b[39mY\u001b[38;5;241m.\u001b[39mappend(\u001b[38;5;28mfloat\u001b[39m(columns[\u001b[38;5;241m1\u001b[39m]))\n\u001b[0;32m     19\u001b[0m     \u001b[38;5;28mself\u001b[39m\u001b[38;5;241m.\u001b[39mZ\u001b[38;5;241m.\u001b[39mappend(\u001b[38;5;28mfloat\u001b[39m(columns[\u001b[38;5;241m2\u001b[39m]))\n",
      "\u001b[1;31mValueError\u001b[0m: could not convert string to float: '86;0'"
     ]
    }
   ],
   "source": [
    "#parašykite klasę TxtAnalyzer, \n",
    "# kuriai kreipimosi metu galima būtų nurodyti failo pavadinimą ir stulpelių skirtuką.\n",
    "#klasė sukūrimo metu turi nuskaityti failą, \n",
    "# stulpelius skaičių suskirstyti į sąrašus ir juos priskirti atributams X, Y ir Z.\n",
    "#Realizuokite metodus, kurie grąžintų X, Y, Z sąrašų vidurkius, \n",
    "# minimalias ir maksimalias vertes. Pythone yra min, max, sum funkcijos;\n",
    "\n",
    "class TxtAnalyzer: \n",
    "  def __init__(self, file_name, delimiter): \n",
    "    self.X = [] \n",
    "    self.Y = [] \n",
    "    self.Z = []\n",
    "    \n",
    "    with open(file_name, 'r') as file:\n",
    "        for line in file:\n",
    "            columns = line.strip().split(delimiter)\n",
    "            self.X.append(float(columns[0]))\n",
    "            self.Y.append(float(columns[1]))\n",
    "            self.Z.append(float(columns[2]))\n",
    "\n",
    "def get_average(self, attribute):\n",
    "    if attribute == 'X':\n",
    "        return sum(self.X) / len(self.X)\n",
    "    elif attribute == 'Y':\n",
    "        return sum(self.Y) / len(self.Y)\n",
    "    elif attribute == 'Z':\n",
    "        return sum(self.Z) / len(self.Z)\n",
    "\n",
    "def get_min(self, attribute):\n",
    "    if attribute == 'X':\n",
    "        return min(self.X)\n",
    "    elif attribute == 'Y':\n",
    "        return min(self.Y)\n",
    "    elif attribute == 'Z':\n",
    "        return min(self.Z)\n",
    "\n",
    "def get_max(self, attribute):\n",
    "    if attribute == 'X':\n",
    "        return max(self.X)\n",
    "    elif attribute == 'Y':\n",
    "        return max(self.Y)\n",
    "    elif attribute == 'Z':\n",
    "        return max(self.Z)\n",
    "  \n",
    "analyzer = TxtAnalyzer('data2.txt', ',') \n",
    "print(analyzer.get_average('X')) \n",
    "print(analyzer.get_min('Y')) \n",
    "print(analyzer.get_max('Z'))"
   ]
  },
  {
   "cell_type": "code",
   "execution_count": 111,
   "metadata": {},
   "outputs": [
    {
     "name": "stdout",
     "output_type": "stream",
     "text": [
      "Tūris: 523.3333333333334\n"
     ]
    },
    {
     "ename": "AttributeError",
     "evalue": "'Rutulys' object has no attribute 'skaiciuoti_ploti'",
     "output_type": "error",
     "traceback": [
      "\u001b[1;31m---------------------------------------------------------------------------\u001b[0m",
      "\u001b[1;31mAttributeError\u001b[0m                            Traceback (most recent call last)",
      "Cell \u001b[1;32mIn[111], line 20\u001b[0m\n\u001b[0;32m     18\u001b[0m rutulys \u001b[38;5;241m=\u001b[39m Rutulys(\u001b[38;5;241m5\u001b[39m) \n\u001b[0;32m     19\u001b[0m \u001b[38;5;28mprint\u001b[39m(\u001b[38;5;124m\"\u001b[39m\u001b[38;5;124mTūris:\u001b[39m\u001b[38;5;124m\"\u001b[39m, rutulys\u001b[38;5;241m.\u001b[39mskaiciuoti_turi()) \n\u001b[1;32m---> 20\u001b[0m \u001b[38;5;28mprint\u001b[39m(\u001b[38;5;124m\"\u001b[39m\u001b[38;5;124mPaviršiaus plotas:\u001b[39m\u001b[38;5;124m\"\u001b[39m, \u001b[43mrutulys\u001b[49m\u001b[38;5;241;43m.\u001b[39;49m\u001b[43mskaiciuoti_ploti\u001b[49m())\n\u001b[0;32m     22\u001b[0m rutulys\u001b[38;5;241m.\u001b[39mpakeisti_spindulio_reiksme(\u001b[38;5;241m7\u001b[39m) \n\u001b[0;32m     23\u001b[0m \u001b[38;5;28mprint\u001b[39m(\u001b[38;5;124m\"\u001b[39m\u001b[38;5;124mPo spindulio pakeitimo:\u001b[39m\u001b[38;5;124m\"\u001b[39m) \n",
      "\u001b[1;31mAttributeError\u001b[0m: 'Rutulys' object has no attribute 'skaiciuoti_ploti'"
     ]
    }
   ],
   "source": [
    "#Sukurkite klasę Rutulys\n",
    "#kuriai galėtumėte nurodyti Rutulio spindulį r.\n",
    "#Sukurkite metodus, skirtus rasti jo Tūriui ir paviršiaus plotui;\n",
    "#Taip pat metodą, kuriuo jūs pakeistumėte spindulio r reikšmę.\n",
    "\n",
    "class Rutulys: \n",
    "  def __init__(self, spindulys): \n",
    "    self.spindulys = spindulys\n",
    "  def skaiciuoti_turi(self):\n",
    "    return (4/3) * 3.14 * self.spindulys ** 3\n",
    "\n",
    "def skaiciuoti_ploti(self):\n",
    "    return 4 * 3.14 * self.spindulys ** 2\n",
    "\n",
    "def pakeisti_spindulio_reiksme(self, naujas_spindulys):\n",
    "    self.spindulys = naujas_spindulys\n",
    "    \n",
    "rutulys = Rutulys(5) \n",
    "print(\"Tūris:\", rutulys.skaiciuoti_turi()) \n",
    "print(\"Paviršiaus plotas:\", rutulys.skaiciuoti_ploti())\n",
    "\n",
    "rutulys.pakeisti_spindulio_reiksme(7) \n",
    "print(\"Po spindulio pakeitimo:\") \n",
    "print(\"Tūris:\", rutulys.skaiciuoti_turi()) \n",
    "print(\"Paviršiaus plotas:\", rutulys.skaiciuoti_ploti())"
   ]
  },
  {
   "cell_type": "code",
   "execution_count": 112,
   "metadata": {},
   "outputs": [
    {
     "name": "stdout",
     "output_type": "stream",
     "text": [
      "2826.0\n",
      "14130.0\n",
      "7234.56\n",
      "57876.479999999996\n"
     ]
    }
   ],
   "source": [
    "#Sukurkite klasę Rutulys\n",
    "#kuriai galėtumėte nurodyti Rutulio spindulį r.\n",
    "#Sukurkite metodus, skirtus rasti jo Tūriui ir paviršiaus plotui;\n",
    "#Taip pat metodą, kuriuo jūs pakeistumėte spindulio r reikšmę.\n",
    "\n",
    "class Rutulys():\n",
    "    def __init__ (self, r):\n",
    "        self.r = r\n",
    "           \n",
    "    def getPav_Plotas(self):\n",
    "        Pav_Plotas = 4*3.14*self.r**2\n",
    "        return Pav_Plotas\n",
    "\n",
    "    def getTūris(self):\n",
    "        Tūris = 4/3*3.14*self.r**3\n",
    "        return Tūris\n",
    "    \n",
    "    def changer(self, new_r):\n",
    "        self.r = new_r\n",
    "        \n",
    "r = int(input(\"Įveskite spindulį r\"))\n",
    "    \n",
    "rutulys  = Rutulys(r)\n",
    "print(rutulys.getPav_Plotas())\n",
    "print(rutulys.getTūris())\n",
    "\n",
    "r = int(input(\"Įveskite spindulį r\"))\n",
    "rutulys.changer(r)\n",
    "\n",
    "print(rutulys.getPav_Plotas())\n",
    "print(rutulys.getTūris())"
   ]
  },
  {
   "cell_type": "code",
   "execution_count": 2,
   "metadata": {},
   "outputs": [
    {
     "name": "stdout",
     "output_type": "stream",
     "text": [
      "Plotas: /n50/nPerimetras: /n30\n",
      "Piramides turis:  10.0\n",
      "Kubo turis:  30\n"
     ]
    }
   ],
   "source": [
    "class Rectangle():\n",
    "\n",
    "    def __init__(self, a, b): \n",
    "\n",
    "        self.S = a * b\n",
    "\n",
    "        self.P = 2*(a + b)\n",
    "\n",
    "    def getP(self):      \n",
    "\n",
    "        return self.P\n",
    "\n",
    "    def getS(self):      \n",
    "\n",
    "        return self.S\n",
    "\n",
    "figura = Rectangle(a=10, b=5)\n",
    "\n",
    "print(\"Plotas: \", figura.getS(), \"Perimetras: \",figura.getP(), sep= '/n') \n",
    " \n",
    " \n",
    "class Piramide(Rectangle):\n",
    "\n",
    "    def __init__ (self, a, b, h):\n",
    "\n",
    "        super().__init__(a, b) # cia atkeliavo is Rectangle funkcijos, 9 eilute\n",
    "\n",
    "        self.h = h\n",
    "\n",
    "    def get_piramides_turis(self):\n",
    "\n",
    "        Turis = 1/3*self.S*self.h\n",
    "\n",
    "        return Turis\n",
    "\n",
    "figura = Piramide(a= 2, b=3, h=5)\n",
    "\n",
    "print(\"Piramides turis: \", figura.get_piramides_turis())\n",
    "\n",
    "class Kubas(Rectangle):\n",
    "\n",
    "    def __init__ (self, a, b, h):\n",
    "\n",
    "        super().__init__(a, b) # cia atkeliavo is Rectangle funkcijos, 9 eilute\n",
    "\n",
    "        self.a = h\n",
    "\n",
    "    def getKubo_turis(self):\n",
    "\n",
    "        Turis = self.S*self.a\n",
    "\n",
    "        return Turis\n",
    "\n",
    "figura = Kubas(a= 2, b=5, h= 3)\n",
    "\n",
    "print(\"Kubo turis: \", figura.getKubo_turis())"
   ]
  },
  {
   "cell_type": "code",
   "execution_count": 9,
   "metadata": {},
   "outputs": [
    {
     "name": "stdout",
     "output_type": "stream",
     "text": [
      "pavadinimasturi 4 sedimu vietu\n",
      "pavadinimasturi 4 sedimu vietu\n",
      "pavadinimasturi 4 sedimu vietu\n"
     ]
    }
   ],
   "source": [
    "#su paveldėjimu:\n",
    "# Sukurkite klasę Vehicle su tokiais atributais - Pavadinimas, Rida\n",
    "#Sukurkite išvestines klases Car, Bus, Train,\n",
    "# kurie paveldėtų viską iš Vehicle, ir papildomai būtų galima\n",
    "# nurodyti Seats - sėdimų vietų skaičių, ir visi \n",
    "# turėtų metoda GetSeats() grąžinantį tekstą:\n",
    "# <Pavadinimas> turi <Seats> sėdimų vietų.\n",
    "\n",
    "class Vehicle():\n",
    "  def __init__(self, P , R):\n",
    "    self.P = P\n",
    "    self.R = R\n",
    "\n",
    "\n",
    "class Car(Vehicle):\n",
    "      def __init__(self, P, R,S ):\n",
    "        super().__init__(P,R)\n",
    "        self.S = S\n",
    "      \n",
    "      def GetSeats(self):  \n",
    "        Txt = self.P + 'turi ' + str(self.S) + ' sedimu vietu'\n",
    "        return Txt\n",
    "test = Car(P='pavadinimas',R=5000,S=4)\n",
    "\n",
    "print(test.GetSeats()) \n",
    "      \n",
    "class Bus(Vehicle):\n",
    "      def __init__(self, P, R,S ):\n",
    "        super().__init__(P,R)\n",
    "        self.S = S\n",
    "      \n",
    "      def GetSeats(self):  \n",
    "        Txt = self.P + 'turi ' + str(self.S) + ' sedimu vietu'\n",
    "        return Txt\n",
    "test = Bus(P='pavadinimas',R=5000,S=4)\n",
    "\n",
    "print(test.GetSeats())      \n",
    "      \n",
    "class Train(Vehicle):\n",
    "      def __init__(self, P, R,S ):\n",
    "        super().__init__(P,R)\n",
    "        self.S = S\n",
    "      \n",
    "      def GetSeats(self):  \n",
    "        Txt = self.P + 'turi ' + str(self.S) + ' sedimu vietu'\n",
    "        return Txt\n",
    "  \n",
    "test = Train(P='pavadinimas',R=5000,S=4)\n",
    "\n",
    "print(test.GetSeats())"
   ]
  },
  {
   "cell_type": "code",
   "execution_count": 20,
   "metadata": {},
   "outputs": [
    {
     "name": "stdout",
     "output_type": "stream",
     "text": [
      "['86;0.0861;7.4004\\n', '72;0.6167;44.4012\\n', '89;0.7936;70.6346\\n', '46;0.9893;45.5059\\n', '6;0.2072;1.2433\\n', '11;0.311;3.4213\\n', '94;0.0604;5.6772\\n', '77;0.6974;53.7036\\n', '73;0.1612;11.7683\\n', '57;0.8905;50.7593\\n', '75;0.9656;72.4181\\n', '82;0.8679;71.1689\\n', '98;0.9158;89.7523\\n', '3;0.8417;2.525\\n', '71;0.0056;0.3983\\n', '37;0.9722;35.9721\\n', '61;0.2773;16.9152\\n', '61;0.5739;35.0072\\n', '57;0.2564;14.6146\\n', '58;0.0542;3.1412\\n', '44;0.866;38.1054\\n', '45;0.4577;20.5961\\n', '87;0.6506;56.601\\n', '17;0.1213;2.0614\\n', '53;0.5227;27.701\\n', '16;0.5716;9.1453\\n', '11;0.2818;3.1001\\n', '3;0.1833;0.5498\\n', '21;0.7497;15.7429\\n', '62;0.3648;22.6154\\n', '68;0.6545;44.5043\\n', '50;0.9699;48.4964\\n', '17;0.3595;6.1108\\n', '27;0.2759;7.4481\\n', '48;0.3391;16.2765\\n', '64;0.5959;38.1344\\n', '87;0.3402;29.5946\\n', '61;0.8638;52.6946\\n', '21;0.5741;12.0552\\n', '55;0.366;20.1273\\n', '50;0.334;16.7012\\n', '59;0.9611;56.7033\\n', '29;0.7874;22.8354\\n', '15;0.5987;8.9802\\n', '72;0.8562;61.643\\n', '83;0.9685;80.3885\\n', '18;0.9766;17.5791\\n', '75;0.6319;47.3944\\n', '29;0.4534;13.1489\\n', '31;0.9872;30.6041\\n', '87;0.8774;76.3372\\n', '80;0.616;49.2791\\n', '71;0.1585;11.2558\\n', '68;0.0485;3.2978\\n', '96;0.7745;74.3502\\n', '5;0.8741;4.3703\\n', '93;0.8971;83.4326\\n', '89;0.0428;3.8085\\n', '42;0.1828;7.6787\\n', '65;0.0658;4.275\\n', '13;0.978;12.7138\\n', '35;0.9209;32.2308\\n', '14;0.6754;9.4556\\n', '40;0.4492;17.9663\\n', '46;0.6521;29.9978\\n', '12;0.5598;6.7182\\n', '10;0.722;7.2203\\n', '77;0.949;73.0763\\n', '24;0.8802;21.1248\\n', '63;0.3838;24.1816\\n', '48;0.1709;8.2026\\n', '85;0.1833;15.5797\\n', '40;0.9247;36.9893\\n', '14;0.4497;6.296\\n', '47;0.923;43.3828\\n', '94;0.2233;20.9938\\n', '34;0.9133;31.0506\\n', '54;0.2646;14.2903\\n', '70;0.0217;1.5179\\n', '70;0.49;34.2983\\n', '81;0.2284;18.499\\n', '71;0.0888;6.3073\\n', '77;0.9355;72.0347\\n', '33;0.1243;4.1029\\n', '97;0.0859;8.3361\\n', '4;0.1838;0.7352\\n', '98;0.6278;61.5267\\n', '26;0.6458;16.7896\\n', '58;0.5961;34.5715\\n', '71;0.4635;32.9069\\n', '6;0.3483;2.0897\\n', '18;0.5256;9.461\\n', '84;0.6142;51.5943\\n', '92;0.2144;19.7276\\n', '22;0.9036;19.8796\\n', '93;0.5886;54.7402\\n', '60;0.9171;55.0254\\n', '49;0.1771;8.6756\\n', '75;0.1996;14.9669\\n', '43;0.5464;23.494']\n",
      "[86.0, 72.0, 89.0, 46.0, 6.0, 11.0, 94.0, 77.0, 73.0, 57.0, 75.0, 82.0, 98.0, 3.0, 71.0, 37.0, 61.0, 61.0, 57.0, 58.0, 44.0, 45.0, 87.0, 17.0, 53.0, 16.0, 11.0, 3.0, 21.0, 62.0, 68.0, 50.0, 17.0, 27.0, 48.0, 64.0, 87.0, 61.0, 21.0, 55.0, 50.0, 59.0, 29.0, 15.0, 72.0, 83.0, 18.0, 75.0, 29.0, 31.0, 87.0, 80.0, 71.0, 68.0, 96.0, 5.0, 93.0, 89.0, 42.0, 65.0, 13.0, 35.0, 14.0, 40.0, 46.0, 12.0, 10.0, 77.0, 24.0, 63.0, 48.0, 85.0, 40.0, 14.0, 47.0, 94.0, 34.0, 54.0, 70.0, 70.0, 81.0, 71.0, 77.0, 33.0, 97.0, 4.0, 98.0, 26.0, 58.0, 71.0, 6.0, 18.0, 84.0, 92.0, 22.0, 93.0, 60.0, 49.0, 75.0, 43.0]\n",
      "[0.0861, 0.6167, 0.7936, 0.9893, 0.2072, 0.311, 0.0604, 0.6974, 0.1612, 0.8905, 0.9656, 0.8679, 0.9158, 0.8417, 0.0056, 0.9722, 0.2773, 0.5739, 0.2564, 0.0542, 0.866, 0.4577, 0.6506, 0.1213, 0.5227, 0.5716, 0.2818, 0.1833, 0.7497, 0.3648, 0.6545, 0.9699, 0.3595, 0.2759, 0.3391, 0.5959, 0.3402, 0.8638, 0.5741, 0.366, 0.334, 0.9611, 0.7874, 0.5987, 0.8562, 0.9685, 0.9766, 0.6319, 0.4534, 0.9872, 0.8774, 0.616, 0.1585, 0.0485, 0.7745, 0.8741, 0.8971, 0.0428, 0.1828, 0.0658, 0.978, 0.9209, 0.6754, 0.4492, 0.6521, 0.5598, 0.722, 0.949, 0.8802, 0.3838, 0.1709, 0.1833, 0.9247, 0.4497, 0.923, 0.2233, 0.9133, 0.2646, 0.0217, 0.49, 0.2284, 0.0888, 0.9355, 0.1243, 0.0859, 0.1838, 0.6278, 0.6458, 0.5961, 0.4635, 0.3483, 0.5256, 0.6142, 0.2144, 0.9036, 0.5886, 0.9171, 0.1771, 0.1996, 0.5464]\n",
      "[7.4004, 44.4012, 70.6346, 45.5059, 1.2433, 3.4213, 5.6772, 53.7036, 11.7683, 50.7593, 72.4181, 71.1689, 89.7523, 2.525, 0.3983, 35.9721, 16.9152, 35.0072, 14.6146, 3.1412, 38.1054, 20.5961, 56.601, 2.0614, 27.701, 9.1453, 3.1001, 0.5498, 15.7429, 22.6154, 44.5043, 48.4964, 6.1108, 7.4481, 16.2765, 38.1344, 29.5946, 52.6946, 12.0552, 20.1273, 16.7012, 56.7033, 22.8354, 8.9802, 61.643, 80.3885, 17.5791, 47.3944, 13.1489, 30.6041, 76.3372, 49.2791, 11.2558, 3.2978, 74.3502, 4.3703, 83.4326, 3.8085, 7.6787, 4.275, 12.7138, 32.2308, 9.4556, 17.9663, 29.9978, 6.7182, 7.2203, 73.0763, 21.1248, 24.1816, 8.2026, 15.5797, 36.9893, 6.296, 43.3828, 20.9938, 31.0506, 14.2903, 1.5179, 34.2983, 18.499, 6.3073, 72.0347, 4.1029, 8.3361, 0.7352, 61.5267, 16.7896, 34.5715, 32.9069, 2.0897, 9.461, 51.5943, 19.7276, 19.8796, 54.7402, 55.0254, 8.6756, 14.9669, 23.494]\n",
      "(52.76, 0.534946, 52.76)\n",
      "(3.0, 0.0056, 3.0)\n",
      "(98.0, 0.9893, 98.0)\n"
     ]
    }
   ],
   "source": [
    "#parašykite klasę TxtAnalyzer, kuriai kreipimosi metu galima būtų nurodyti failo pavadinimą ir stulpelių skirtuką.\n",
    "#klasė sukūrimo metu turi nuskaityti failą, stulpelius skaičių suskirstyti į sąrašus ir juos priskirti atributams X, Y ir Z.\n",
    "#Realizuokite metodus, kurie grąžintų X, Y, Z sąrašų vidurkius, minimalias ir maksimalias vertes. Pythone yra min, max, sum funkcijos\n",
    "\n",
    "\n",
    "class TxtAnalyzer():\n",
    "    def __init__(self, pav, skirtukas):\n",
    "        self.pavadinimas = pav\n",
    "        self.skirt = skirtukas\n",
    "        self.x = []\n",
    "        self.y = []\n",
    "        self.z = []\n",
    "        pass\n",
    "    def TxtReader(self):\n",
    "        fname = self.pavadinimas\n",
    "        f = open(fname, mode='r', encoding='utf-8')\n",
    "        tekstas = f.readlines()\n",
    "        print(tekstas)\n",
    "        f.close()\n",
    "        for x in tekstas:\n",
    "            self.x.append(float(x.split(self.skirt)[0]))\n",
    "            self.y.append(float(x.split(self.skirt)[1]))\n",
    "            self.z.append(float(x.split(self.skirt)[2]))\n",
    "        print(self.x)\n",
    "        print(self.y)\n",
    "        print(self.z)\n",
    "    def Getvidurkis(self):\n",
    "      vidurkisX = sum(self.x)/len(self.x)\n",
    "      vidurkisY = sum(self.y)/len(self.y)\n",
    "      vidurkisZ = sum(self.z)/len(self.z)\n",
    "      \n",
    "      return vidurkisX, vidurkisY, vidurkisX\n",
    "    \n",
    "    def getMinimali(self):\n",
    "      minimaliX = min(self.x)\n",
    "      minimaliY = min(self.y)\n",
    "      minimaliZ = min(self.z)\n",
    "      return minimaliX, minimaliY, minimaliX\n",
    "      \n",
    "    def getMax(self):\n",
    "      minimaliX = max(self.x)\n",
    "      minimaliY = max(self.y)\n",
    "      minimaliZ = max(self.z)\n",
    "      return minimaliX, minimaliY, minimaliX\n",
    "\n",
    "\n",
    "\n",
    "z = TxtAnalyzer('data1.txt',';')\n",
    "z.TxtReader()\n",
    "print(z.Getvidurkis())\n",
    "print(z.getMinimali())\n",
    "print(z.getMax())"
   ]
  },
  {
   "cell_type": "code",
   "execution_count": 22,
   "metadata": {},
   "outputs": [
    {
     "name": "stdout",
     "output_type": "stream",
     "text": [
      "X: \n",
      "Ave: 52.76\n",
      "Min: 3.0\n",
      "Max: 98.0\n",
      "\n",
      "Y: \n",
      "Ave: 0.534946\n",
      "Min: 0.0056\n",
      "Max: 0.9893\n",
      "\n",
      "Z: \n",
      "Ave: 27.449029\n",
      "Min: 0.3983\n",
      "Max: 89.7523\n"
     ]
    }
   ],
   "source": [
    "class TxtAnalyzer:\n",
    "    def __init__(self, fileName, dell=';'):\n",
    "        self.fileName = fileName\n",
    "        self.dell = dell\n",
    "        self.X, self.Y, self.Z = self.readFile()\n",
    "    def readFile(self):\n",
    "        X, Y, Z = [], [], []\n",
    "        try:\n",
    "             with open(self.fileName, 'r') as file:\n",
    "                for line in file:\n",
    "                    values = line.strip().split(self.dell)\n",
    "                    if len(values) == 3:\n",
    "                        X.append(float(values[0]))\n",
    "                        Y.append(float(values[1]))\n",
    "                        Z.append(float(values[2]))\n",
    "        except FileNotFoundError:\n",
    "            print(\"File not found!\")\n",
    "        return X, Y, Z\n",
    "    def Ave(self, data):\n",
    "        if data:\n",
    "            return sum(data)/len(data)\n",
    "        else:\n",
    "            return None\n",
    "    def Min(self, data):\n",
    "        if data:\n",
    "            return min(data)\n",
    "        else:\n",
    "            return None\n",
    "    def Max(self, data):\n",
    "        if data:\n",
    "            return max(data)\n",
    "        else:\n",
    "            return None\n",
    "fileName = \"data1.txt\"  \n",
    "analyzer = TxtAnalyzer(fileName)\n",
    "print(\"X: \")\n",
    "print(\"Ave:\", analyzer.Ave(analyzer.X))\n",
    "print(\"Min:\", analyzer.Min(analyzer.X))\n",
    "print(\"Max:\", analyzer.Max(analyzer.X))\n",
    "print(\"\\nY: \")\n",
    "print(\"Ave:\", analyzer.Ave(analyzer.Y))\n",
    "print(\"Min:\", analyzer.Min(analyzer.Y))\n",
    "print(\"Max:\", analyzer.Max(analyzer.Y))\n",
    "print(\"\\nZ: \")\n",
    "print(\"Ave:\", analyzer.Ave(analyzer.Z))\n",
    "print(\"Min:\", analyzer.Min(analyzer.Z))\n",
    "print(\"Max:\", analyzer.Max(analyzer.Z))"
   ]
  },
  {
   "cell_type": "code",
   "execution_count": 30,
   "metadata": {},
   "outputs": [
    {
     "name": "stdout",
     "output_type": "stream",
     "text": [
      "[0.25, 1.25, 2.25, 3.25, 4.25]\n"
     ]
    }
   ],
   "source": [
    "x = [1,2,3,4,5]\n",
    "\n",
    "naujas_x = []\n",
    "for skaicius in x:\n",
    "  naujas_x.append(skaicius - 0.75)\n",
    "print(naujas_x)\n",
    "  "
   ]
  },
  {
   "cell_type": "code",
   "execution_count": 31,
   "metadata": {},
   "outputs": [
    {
     "ename": "ModuleNotFoundError",
     "evalue": "No module named 'numpy'",
     "output_type": "error",
     "traceback": [
      "\u001b[1;31m---------------------------------------------------------------------------\u001b[0m",
      "\u001b[1;31mModuleNotFoundError\u001b[0m                       Traceback (most recent call last)",
      "Cell \u001b[1;32mIn[31], line 1\u001b[0m\n\u001b[1;32m----> 1\u001b[0m \u001b[38;5;28;01mimport\u001b[39;00m \u001b[38;5;21;01mnumpy\u001b[39;00m \u001b[38;5;28;01mas\u001b[39;00m \u001b[38;5;21;01mnp\u001b[39;00m\n",
      "\u001b[1;31mModuleNotFoundError\u001b[0m: No module named 'numpy'"
     ]
    }
   ],
   "source": [
    "import numpy as np"
   ]
  }
 ],
 "metadata": {
  "kernelspec": {
   "display_name": "Python 3",
   "language": "python",
   "name": "python3"
  },
  "language_info": {
   "codemirror_mode": {
    "name": "ipython",
    "version": 3
   },
   "file_extension": ".py",
   "mimetype": "text/x-python",
   "name": "python",
   "nbconvert_exporter": "python",
   "pygments_lexer": "ipython3",
   "version": "3.12.2"
  }
 },
 "nbformat": 4,
 "nbformat_minor": 2
}
