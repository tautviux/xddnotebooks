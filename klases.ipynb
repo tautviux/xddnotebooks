{
 "cells": [
  {
   "cell_type": "code",
   "execution_count": 2,
   "metadata": {},
   "outputs": [
    {
     "name": "stdout",
     "output_type": "stream",
     "text": [
      "Testas\n"
     ]
    }
   ],
   "source": [
    "print('Testas')"
   ]
  },
  {
   "cell_type": "code",
   "execution_count": 3,
   "metadata": {},
   "outputs": [
    {
     "name": "stdout",
     "output_type": "stream",
     "text": [
      "<class 'str'>\n",
      "<class 'int'>\n",
      "<class 'list'>\n"
     ]
    },
    {
     "data": {
      "text/plain": [
       "'TEKSTAS'"
      ]
     },
     "execution_count": 3,
     "metadata": {},
     "output_type": "execute_result"
    }
   ],
   "source": [
    "# klases\n",
    "s = 'tekstas'\n",
    "sk = 7\n",
    "sar = []\n",
    "print(type(s), type(sk), type(sar), sep= '\\n')\n",
    "s.upper()"
   ]
  },
  {
   "cell_type": "code",
   "execution_count": 4,
   "metadata": {},
   "outputs": [],
   "source": [
    "def calculateAge():\n",
    "  return 'Cha!!!'\n",
    "\n",
    "\n",
    "class Asmuo():\n",
    "  def __init__(self, name, gm):\n",
    "    self.Name = name # klases atributas (tiesiog kintamasis, esantis klases viduje)\n",
    "    self.BYear = gm\n",
    "    self.Age = self.calculateAge() #kaip kreiptis i metoda is kito metodo\n",
    "    pass\n",
    "  \n",
    "  def getname(self):\n",
    "      return self.Name\n",
    "  \n",
    "  def setName(self, new_name):\n",
    "    self.Name = new_name\n",
    "    \n",
    "  def calculateAge(self):\n",
    "    return 2024-self.BYear\n",
    "    \n",
    "  "
   ]
  },
  {
   "cell_type": "code",
   "execution_count": 5,
   "metadata": {},
   "outputs": [
    {
     "name": "stdout",
     "output_type": "stream",
     "text": [
      "28 Vardenis\n"
     ]
    }
   ],
   "source": [
    "a1 = Asmuo('Vardenis', 1996)\n",
    "print(a1.Age, a1.getname())"
   ]
  },
  {
   "cell_type": "code",
   "execution_count": 6,
   "metadata": {},
   "outputs": [],
   "source": [
    "# paveldejimas\n",
    "\n",
    "class Studentas(Asmuo):\n",
    "  def getStatus(self):\n",
    "    return 'Studentas'\n",
    "\n"
   ]
  },
  {
   "cell_type": "code",
   "execution_count": 7,
   "metadata": {},
   "outputs": [],
   "source": [
    "std1 = Studentas('une', 1992)"
   ]
  },
  {
   "cell_type": "code",
   "execution_count": 8,
   "metadata": {},
   "outputs": [
    {
     "name": "stdout",
     "output_type": "stream",
     "text": [
      "32 une\n"
     ]
    }
   ],
   "source": [
    "print(std1.Age, std1.getname())"
   ]
  },
  {
   "cell_type": "code",
   "execution_count": 9,
   "metadata": {},
   "outputs": [
    {
     "data": {
      "text/plain": [
       "'Studentas'"
      ]
     },
     "execution_count": 9,
     "metadata": {},
     "output_type": "execute_result"
    }
   ],
   "source": [
    "std1.getStatus()"
   ]
  },
  {
   "cell_type": "code",
   "execution_count": 10,
   "metadata": {},
   "outputs": [],
   "source": [
    "# sudetingesnis paveldijimo atvejis\n",
    "\n",
    "class Studentas(Asmuo):\n",
    "  def __init__(self, name , gm):\n",
    "    super().__init__(name, gm)\n",
    "    self.Enroll = True\n",
    "    \n",
    "std1 = Studentas('une', 1996)\n"
   ]
  },
  {
   "cell_type": "code",
   "execution_count": 11,
   "metadata": {},
   "outputs": [
    {
     "name": "stdout",
     "output_type": "stream",
     "text": [
      "28 True\n"
     ]
    }
   ],
   "source": [
    "print(std1.Age, std1.Enroll)"
   ]
  },
  {
   "cell_type": "code",
   "execution_count": 12,
   "metadata": {},
   "outputs": [
    {
     "name": "stdout",
     "output_type": "stream",
     "text": [
      "36\n"
     ]
    }
   ],
   "source": [
    "# aprašykite klasę Kvadratas\n",
    "# kreipiantis į klasę, reikia nurodyti kvadrato ilgį a.\n",
    "# Klasė turi turėti atributą Plotas, kurį \n",
    "# turi apskaičiuoti klasės kūrimo metu.\n",
    "# Plotas = a*a\n",
    "# parašykite metodą, kuris grąžintų apskaičiuoto Plotas atributo reikšmę.\n",
    "\n",
    "class Kvadratas():\n",
    "  def __init__(self, a):\n",
    "    self.Plotas = a*a   \n",
    "    pass  \n",
    "  def plotas(self):\n",
    "    return self.Plotas\n",
    "  \n",
    "Kvadratu = Kvadratas(a=6)\n",
    "print(Kvadratu.plotas())\n",
    "\n"
   ]
  },
  {
   "cell_type": "code",
   "execution_count": 13,
   "metadata": {},
   "outputs": [
    {
     "name": "stdout",
     "output_type": "stream",
     "text": [
      "156\n",
      "50\n"
     ]
    }
   ],
   "source": [
    "# aprašykite klasę Rectangle\n",
    "# kreipiantis į klasę, reikia nurodyti stačiakampio\n",
    "# kraštines a ir b.\n",
    "# Realizuokite atributą Plotas = a*b\n",
    "# ir metodą, grąžinantį Ploto reikšmę\n",
    "# Taip pat pridėkite metodą, apskaičiuojantį ir grąžinantį\n",
    "# perimetrą P=2(a+b)\n",
    "\n",
    "class Rectangle():\n",
    "  def __init__(self, a, b):\n",
    "    self.Plotas = a*b\n",
    "    self.Perimetras = 2*(a+b)\n",
    "    \n",
    "    pass\n",
    "    \n",
    "  def Staciakampis(self):\n",
    "    return self.Plotas\n",
    "  \n",
    "  def perimetru(self):\n",
    "    return self.Perimetras\n",
    "\n",
    "perimetras = Rectangle(a=12,b=13)\n",
    "staciakampis = Rectangle(a=12,b=13)\n",
    "print(staciakampis.Staciakampis())\n",
    "print(perimetras.perimetru())\n",
    "    "
   ]
  },
  {
   "cell_type": "code",
   "execution_count": 14,
   "metadata": {},
   "outputs": [
    {
     "name": "stdout",
     "output_type": "stream",
     "text": [
      "156\n",
      "50\n",
      "2184\n"
     ]
    }
   ],
   "source": [
    "class Kubas(Rectangle):\n",
    "  def __init__(self, a, b, c):\n",
    "    super().__init__(a, b,)\n",
    "    self.Kubas = a*b*c\n",
    "  def kubas(self):\n",
    "    return self.Kubas\n",
    "  \n",
    "perimetras = Rectangle(a=12,b=13)\n",
    "staciakampis = Rectangle(a=12,b=13)\n",
    "Kubikas = Kubas(a=12,b=13,c=14)\n",
    "print(staciakampis.Staciakampis())\n",
    "print(perimetras.perimetru())\n",
    "print(Kubikas.kubas())\n",
    "    "
   ]
  },
  {
   "cell_type": "code",
   "execution_count": 15,
   "metadata": {},
   "outputs": [
    {
     "name": "stdout",
     "output_type": "stream",
     "text": [
      "Laba diena\n"
     ]
    }
   ],
   "source": [
    "#susikurkite su Notepadu tekstinį failą su bet kokiu tekstu\n",
    "#parašykite klasę TxtReader, kuriai kreipimosimetu būtų nurodomas tekstinio failo pavadinimas;\n",
    "#klasės sukūrimo metu tas tekstinis failas turi būti nuskaitomas\n",
    "#ir nuskaitytas tekstas turi būti priskirtas atributui Text\n",
    "#parašykite metodą getText(), kuri grąžintų atributo text reikšmę\\\n",
    "\n",
    "class TxtReader:\n",
    "    def __init__(self, filename):\n",
    "        self.text = \"\"\n",
    "        with open(filename, 'r') as file:\n",
    "            self.text = file.read()\n",
    "            \n",
    "\n",
    "    def getText(self):\n",
    "        return self.text\n",
    "\n",
    "reader = TxtReader(\"xdd.txt\")\n",
    "text = reader.getText()\n",
    "print(text)"
   ]
  },
  {
   "cell_type": "code",
   "execution_count": 16,
   "metadata": {},
   "outputs": [
    {
     "ename": "ValueError",
     "evalue": "could not convert string to float: '86;0'",
     "output_type": "error",
     "traceback": [
      "\u001b[1;31m---------------------------------------------------------------------------\u001b[0m",
      "\u001b[1;31mValueError\u001b[0m                                Traceback (most recent call last)",
      "Cell \u001b[1;32mIn[16], line 45\u001b[0m\n\u001b[0;32m     42\u001b[0m     \u001b[38;5;28;01melif\u001b[39;00m attribute \u001b[38;5;241m==\u001b[39m \u001b[38;5;124m'\u001b[39m\u001b[38;5;124mZ\u001b[39m\u001b[38;5;124m'\u001b[39m:\n\u001b[0;32m     43\u001b[0m         \u001b[38;5;28;01mreturn\u001b[39;00m \u001b[38;5;28mmax\u001b[39m(\u001b[38;5;28mself\u001b[39m\u001b[38;5;241m.\u001b[39mZ)\n\u001b[1;32m---> 45\u001b[0m analyzer \u001b[38;5;241m=\u001b[39m \u001b[43mTxtAnalyzer\u001b[49m\u001b[43m(\u001b[49m\u001b[38;5;124;43m'\u001b[39;49m\u001b[38;5;124;43mdata2.txt\u001b[39;49m\u001b[38;5;124;43m'\u001b[39;49m\u001b[43m,\u001b[49m\u001b[43m \u001b[49m\u001b[38;5;124;43m'\u001b[39;49m\u001b[38;5;124;43m,\u001b[39;49m\u001b[38;5;124;43m'\u001b[39;49m\u001b[43m)\u001b[49m \n\u001b[0;32m     46\u001b[0m \u001b[38;5;28mprint\u001b[39m(analyzer\u001b[38;5;241m.\u001b[39mget_average(\u001b[38;5;124m'\u001b[39m\u001b[38;5;124mX\u001b[39m\u001b[38;5;124m'\u001b[39m)) \n\u001b[0;32m     47\u001b[0m \u001b[38;5;28mprint\u001b[39m(analyzer\u001b[38;5;241m.\u001b[39mget_min(\u001b[38;5;124m'\u001b[39m\u001b[38;5;124mY\u001b[39m\u001b[38;5;124m'\u001b[39m)) \n",
      "Cell \u001b[1;32mIn[16], line 17\u001b[0m, in \u001b[0;36mTxtAnalyzer.__init__\u001b[1;34m(self, file_name, delimiter)\u001b[0m\n\u001b[0;32m     15\u001b[0m \u001b[38;5;28;01mfor\u001b[39;00m line \u001b[38;5;129;01min\u001b[39;00m file:\n\u001b[0;32m     16\u001b[0m     columns \u001b[38;5;241m=\u001b[39m line\u001b[38;5;241m.\u001b[39mstrip()\u001b[38;5;241m.\u001b[39msplit(delimiter)\n\u001b[1;32m---> 17\u001b[0m     \u001b[38;5;28mself\u001b[39m\u001b[38;5;241m.\u001b[39mX\u001b[38;5;241m.\u001b[39mappend(\u001b[38;5;28;43mfloat\u001b[39;49m\u001b[43m(\u001b[49m\u001b[43mcolumns\u001b[49m\u001b[43m[\u001b[49m\u001b[38;5;241;43m0\u001b[39;49m\u001b[43m]\u001b[49m\u001b[43m)\u001b[49m)\n\u001b[0;32m     18\u001b[0m     \u001b[38;5;28mself\u001b[39m\u001b[38;5;241m.\u001b[39mY\u001b[38;5;241m.\u001b[39mappend(\u001b[38;5;28mfloat\u001b[39m(columns[\u001b[38;5;241m1\u001b[39m]))\n\u001b[0;32m     19\u001b[0m     \u001b[38;5;28mself\u001b[39m\u001b[38;5;241m.\u001b[39mZ\u001b[38;5;241m.\u001b[39mappend(\u001b[38;5;28mfloat\u001b[39m(columns[\u001b[38;5;241m2\u001b[39m]))\n",
      "\u001b[1;31mValueError\u001b[0m: could not convert string to float: '86;0'"
     ]
    }
   ],
   "source": [
    "#parašykite klasę TxtAnalyzer, \n",
    "# kuriai kreipimosi metu galima būtų nurodyti failo pavadinimą ir stulpelių skirtuką.\n",
    "#klasė sukūrimo metu turi nuskaityti failą, \n",
    "# stulpelius skaičių suskirstyti į sąrašus ir juos priskirti atributams X, Y ir Z.\n",
    "#Realizuokite metodus, kurie grąžintų X, Y, Z sąrašų vidurkius, \n",
    "# minimalias ir maksimalias vertes. Pythone yra min, max, sum funkcijos;\n",
    "\n",
    "class TxtAnalyzer: \n",
    "  def __init__(self, file_name, delimiter): \n",
    "    self.X = [] \n",
    "    self.Y = [] \n",
    "    self.Z = []\n",
    "    \n",
    "    with open(file_name, 'r') as file:\n",
    "        for line in file:\n",
    "            columns = line.strip().split(delimiter)\n",
    "            self.X.append(float(columns[0]))\n",
    "            self.Y.append(float(columns[1]))\n",
    "            self.Z.append(float(columns[2]))\n",
    "\n",
    "def get_average(self, attribute):\n",
    "    if attribute == 'X':\n",
    "        return sum(self.X) / len(self.X)\n",
    "    elif attribute == 'Y':\n",
    "        return sum(self.Y) / len(self.Y)\n",
    "    elif attribute == 'Z':\n",
    "        return sum(self.Z) / len(self.Z)\n",
    "\n",
    "def get_min(self, attribute):\n",
    "    if attribute == 'X':\n",
    "        return min(self.X)\n",
    "    elif attribute == 'Y':\n",
    "        return min(self.Y)\n",
    "    elif attribute == 'Z':\n",
    "        return min(self.Z)\n",
    "\n",
    "def get_max(self, attribute):\n",
    "    if attribute == 'X':\n",
    "        return max(self.X)\n",
    "    elif attribute == 'Y':\n",
    "        return max(self.Y)\n",
    "    elif attribute == 'Z':\n",
    "        return max(self.Z)\n",
    "  \n",
    "analyzer = TxtAnalyzer('data2.txt', ',') \n",
    "print(analyzer.get_average('X')) \n",
    "print(analyzer.get_min('Y')) \n",
    "print(analyzer.get_max('Z'))"
   ]
  },
  {
   "cell_type": "code",
   "execution_count": null,
   "metadata": {},
   "outputs": [
    {
     "name": "stdout",
     "output_type": "stream",
     "text": [
      "Tūris: 523.3333333333334\n"
     ]
    },
    {
     "ename": "AttributeError",
     "evalue": "'Rutulys' object has no attribute 'skaiciuoti_ploti'",
     "output_type": "error",
     "traceback": [
      "\u001b[1;31m---------------------------------------------------------------------------\u001b[0m",
      "\u001b[1;31mAttributeError\u001b[0m                            Traceback (most recent call last)",
      "Cell \u001b[1;32mIn[111], line 20\u001b[0m\n\u001b[0;32m     18\u001b[0m rutulys \u001b[38;5;241m=\u001b[39m Rutulys(\u001b[38;5;241m5\u001b[39m) \n\u001b[0;32m     19\u001b[0m \u001b[38;5;28mprint\u001b[39m(\u001b[38;5;124m\"\u001b[39m\u001b[38;5;124mTūris:\u001b[39m\u001b[38;5;124m\"\u001b[39m, rutulys\u001b[38;5;241m.\u001b[39mskaiciuoti_turi()) \n\u001b[1;32m---> 20\u001b[0m \u001b[38;5;28mprint\u001b[39m(\u001b[38;5;124m\"\u001b[39m\u001b[38;5;124mPaviršiaus plotas:\u001b[39m\u001b[38;5;124m\"\u001b[39m, \u001b[43mrutulys\u001b[49m\u001b[38;5;241;43m.\u001b[39;49m\u001b[43mskaiciuoti_ploti\u001b[49m())\n\u001b[0;32m     22\u001b[0m rutulys\u001b[38;5;241m.\u001b[39mpakeisti_spindulio_reiksme(\u001b[38;5;241m7\u001b[39m) \n\u001b[0;32m     23\u001b[0m \u001b[38;5;28mprint\u001b[39m(\u001b[38;5;124m\"\u001b[39m\u001b[38;5;124mPo spindulio pakeitimo:\u001b[39m\u001b[38;5;124m\"\u001b[39m) \n",
      "\u001b[1;31mAttributeError\u001b[0m: 'Rutulys' object has no attribute 'skaiciuoti_ploti'"
     ]
    }
   ],
   "source": [
    "#Sukurkite klasę Rutulys\n",
    "#kuriai galėtumėte nurodyti Rutulio spindulį r.\n",
    "#Sukurkite metodus, skirtus rasti jo Tūriui ir paviršiaus plotui;\n",
    "#Taip pat metodą, kuriuo jūs pakeistumėte spindulio r reikšmę.\n",
    "\n",
    "class Rutulys: \n",
    "  def __init__(self, spindulys): \n",
    "    self.spindulys = spindulys\n",
    "  def skaiciuoti_turi(self):\n",
    "    return (4/3) * 3.14 * self.spindulys ** 3\n",
    "\n",
    "def skaiciuoti_ploti(self):\n",
    "    return 4 * 3.14 * self.spindulys ** 2\n",
    "\n",
    "def pakeisti_spindulio_reiksme(self, naujas_spindulys):\n",
    "    self.spindulys = naujas_spindulys\n",
    "    \n",
    "rutulys = Rutulys(5) \n",
    "print(\"Tūris:\", rutulys.skaiciuoti_turi()) \n",
    "print(\"Paviršiaus plotas:\", rutulys.skaiciuoti_ploti())\n",
    "\n",
    "rutulys.pakeisti_spindulio_reiksme(7) \n",
    "print(\"Po spindulio pakeitimo:\") \n",
    "print(\"Tūris:\", rutulys.skaiciuoti_turi()) \n",
    "print(\"Paviršiaus plotas:\", rutulys.skaiciuoti_ploti())"
   ]
  },
  {
   "cell_type": "code",
   "execution_count": null,
   "metadata": {},
   "outputs": [
    {
     "name": "stdout",
     "output_type": "stream",
     "text": [
      "2826.0\n",
      "14130.0\n",
      "7234.56\n",
      "57876.479999999996\n"
     ]
    }
   ],
   "source": [
    "#Sukurkite klasę Rutulys\n",
    "#kuriai galėtumėte nurodyti Rutulio spindulį r.\n",
    "#Sukurkite metodus, skirtus rasti jo Tūriui ir paviršiaus plotui;\n",
    "#Taip pat metodą, kuriuo jūs pakeistumėte spindulio r reikšmę.\n",
    "\n",
    "class Rutulys():\n",
    "    def __init__ (self, r):\n",
    "        self.r = r\n",
    "           \n",
    "    def getPav_Plotas(self):\n",
    "        Pav_Plotas = 4*3.14*self.r**2\n",
    "        return Pav_Plotas\n",
    "\n",
    "    def getTūris(self):\n",
    "        Tūris = 4/3*3.14*self.r**3\n",
    "        return Tūris\n",
    "    \n",
    "    def changer(self, new_r):\n",
    "        self.r = new_r\n",
    "        \n",
    "r = int(input(\"Įveskite spindulį r\"))\n",
    "    \n",
    "rutulys  = Rutulys(r)\n",
    "print(rutulys.getPav_Plotas())\n",
    "print(rutulys.getTūris())\n",
    "\n",
    "r = int(input(\"Įveskite spindulį r\"))\n",
    "rutulys.changer(r)\n",
    "\n",
    "print(rutulys.getPav_Plotas())\n",
    "print(rutulys.getTūris())"
   ]
  },
  {
   "cell_type": "code",
   "execution_count": null,
   "metadata": {},
   "outputs": [
    {
     "name": "stdout",
     "output_type": "stream",
     "text": [
      "Plotas: /n50/nPerimetras: /n30\n",
      "Piramides turis:  10.0\n",
      "Kubo turis:  30\n"
     ]
    }
   ],
   "source": [
    "class Rectangle():\n",
    "\n",
    "    def __init__(self, a, b): \n",
    "\n",
    "        self.S = a * b\n",
    "\n",
    "        self.P = 2*(a + b)\n",
    "\n",
    "    def getP(self):      \n",
    "\n",
    "        return self.P\n",
    "\n",
    "    def getS(self):      \n",
    "\n",
    "        return self.S\n",
    "\n",
    "figura = Rectangle(a=10, b=5)\n",
    "\n",
    "print(\"Plotas: \", figura.getS(), \"Perimetras: \",figura.getP(), sep= '/n') \n",
    " \n",
    " \n",
    "class Piramide(Rectangle):\n",
    "\n",
    "    def __init__ (self, a, b, h):\n",
    "\n",
    "        super().__init__(a, b) # cia atkeliavo is Rectangle funkcijos, 9 eilute\n",
    "\n",
    "        self.h = h\n",
    "\n",
    "    def get_piramides_turis(self):\n",
    "\n",
    "        Turis = 1/3*self.S*self.h\n",
    "\n",
    "        return Turis\n",
    "\n",
    "figura = Piramide(a= 2, b=3, h=5)\n",
    "\n",
    "print(\"Piramides turis: \", figura.get_piramides_turis())\n",
    "\n",
    "class Kubas(Rectangle):\n",
    "\n",
    "    def __init__ (self, a, b, h):\n",
    "\n",
    "        super().__init__(a, b) # cia atkeliavo is Rectangle funkcijos, 9 eilute\n",
    "\n",
    "        self.a = h\n",
    "\n",
    "    def getKubo_turis(self):\n",
    "\n",
    "        Turis = self.S*self.a\n",
    "\n",
    "        return Turis\n",
    "\n",
    "figura = Kubas(a= 2, b=5, h= 3)\n",
    "\n",
    "print(\"Kubo turis: \", figura.getKubo_turis())"
   ]
  },
  {
   "cell_type": "code",
   "execution_count": null,
   "metadata": {},
   "outputs": [
    {
     "name": "stdout",
     "output_type": "stream",
     "text": [
      "['86;0.0861;7.4004\\n', '72;0.6167;44.4012\\n', '89;0.7936;70.6346\\n', '46;0.9893;45.5059\\n', '6;0.2072;1.2433\\n', '11;0.311;3.4213\\n', '94;0.0604;5.6772\\n', '77;0.6974;53.7036\\n', '73;0.1612;11.7683\\n', '57;0.8905;50.7593\\n', '75;0.9656;72.4181\\n', '82;0.8679;71.1689\\n', '98;0.9158;89.7523\\n', '3;0.8417;2.525\\n', '71;0.0056;0.3983\\n', '37;0.9722;35.9721\\n', '61;0.2773;16.9152\\n', '61;0.5739;35.0072\\n', '57;0.2564;14.6146\\n', '58;0.0542;3.1412\\n', '44;0.866;38.1054\\n', '45;0.4577;20.5961\\n', '87;0.6506;56.601\\n', '17;0.1213;2.0614\\n', '53;0.5227;27.701\\n', '16;0.5716;9.1453\\n', '11;0.2818;3.1001\\n', '3;0.1833;0.5498\\n', '21;0.7497;15.7429\\n', '62;0.3648;22.6154\\n', '68;0.6545;44.5043\\n', '50;0.9699;48.4964\\n', '17;0.3595;6.1108\\n', '27;0.2759;7.4481\\n', '48;0.3391;16.2765\\n', '64;0.5959;38.1344\\n', '87;0.3402;29.5946\\n', '61;0.8638;52.6946\\n', '21;0.5741;12.0552\\n', '55;0.366;20.1273\\n', '50;0.334;16.7012\\n', '59;0.9611;56.7033\\n', '29;0.7874;22.8354\\n', '15;0.5987;8.9802\\n', '72;0.8562;61.643\\n', '83;0.9685;80.3885\\n', '18;0.9766;17.5791\\n', '75;0.6319;47.3944\\n', '29;0.4534;13.1489\\n', '31;0.9872;30.6041\\n', '87;0.8774;76.3372\\n', '80;0.616;49.2791\\n', '71;0.1585;11.2558\\n', '68;0.0485;3.2978\\n', '96;0.7745;74.3502\\n', '5;0.8741;4.3703\\n', '93;0.8971;83.4326\\n', '89;0.0428;3.8085\\n', '42;0.1828;7.6787\\n', '65;0.0658;4.275\\n', '13;0.978;12.7138\\n', '35;0.9209;32.2308\\n', '14;0.6754;9.4556\\n', '40;0.4492;17.9663\\n', '46;0.6521;29.9978\\n', '12;0.5598;6.7182\\n', '10;0.722;7.2203\\n', '77;0.949;73.0763\\n', '24;0.8802;21.1248\\n', '63;0.3838;24.1816\\n', '48;0.1709;8.2026\\n', '85;0.1833;15.5797\\n', '40;0.9247;36.9893\\n', '14;0.4497;6.296\\n', '47;0.923;43.3828\\n', '94;0.2233;20.9938\\n', '34;0.9133;31.0506\\n', '54;0.2646;14.2903\\n', '70;0.0217;1.5179\\n', '70;0.49;34.2983\\n', '81;0.2284;18.499\\n', '71;0.0888;6.3073\\n', '77;0.9355;72.0347\\n', '33;0.1243;4.1029\\n', '97;0.0859;8.3361\\n', '4;0.1838;0.7352\\n', '98;0.6278;61.5267\\n', '26;0.6458;16.7896\\n', '58;0.5961;34.5715\\n', '71;0.4635;32.9069\\n', '6;0.3483;2.0897\\n', '18;0.5256;9.461\\n', '84;0.6142;51.5943\\n', '92;0.2144;19.7276\\n', '22;0.9036;19.8796\\n', '93;0.5886;54.7402\\n', '60;0.9171;55.0254\\n', '49;0.1771;8.6756\\n', '75;0.1996;14.9669\\n', '43;0.5464;23.494']\n",
      "[86.0, 72.0, 89.0, 46.0, 6.0, 11.0, 94.0, 77.0, 73.0, 57.0, 75.0, 82.0, 98.0, 3.0, 71.0, 37.0, 61.0, 61.0, 57.0, 58.0, 44.0, 45.0, 87.0, 17.0, 53.0, 16.0, 11.0, 3.0, 21.0, 62.0, 68.0, 50.0, 17.0, 27.0, 48.0, 64.0, 87.0, 61.0, 21.0, 55.0, 50.0, 59.0, 29.0, 15.0, 72.0, 83.0, 18.0, 75.0, 29.0, 31.0, 87.0, 80.0, 71.0, 68.0, 96.0, 5.0, 93.0, 89.0, 42.0, 65.0, 13.0, 35.0, 14.0, 40.0, 46.0, 12.0, 10.0, 77.0, 24.0, 63.0, 48.0, 85.0, 40.0, 14.0, 47.0, 94.0, 34.0, 54.0, 70.0, 70.0, 81.0, 71.0, 77.0, 33.0, 97.0, 4.0, 98.0, 26.0, 58.0, 71.0, 6.0, 18.0, 84.0, 92.0, 22.0, 93.0, 60.0, 49.0, 75.0, 43.0]\n",
      "[0.0861, 0.6167, 0.7936, 0.9893, 0.2072, 0.311, 0.0604, 0.6974, 0.1612, 0.8905, 0.9656, 0.8679, 0.9158, 0.8417, 0.0056, 0.9722, 0.2773, 0.5739, 0.2564, 0.0542, 0.866, 0.4577, 0.6506, 0.1213, 0.5227, 0.5716, 0.2818, 0.1833, 0.7497, 0.3648, 0.6545, 0.9699, 0.3595, 0.2759, 0.3391, 0.5959, 0.3402, 0.8638, 0.5741, 0.366, 0.334, 0.9611, 0.7874, 0.5987, 0.8562, 0.9685, 0.9766, 0.6319, 0.4534, 0.9872, 0.8774, 0.616, 0.1585, 0.0485, 0.7745, 0.8741, 0.8971, 0.0428, 0.1828, 0.0658, 0.978, 0.9209, 0.6754, 0.4492, 0.6521, 0.5598, 0.722, 0.949, 0.8802, 0.3838, 0.1709, 0.1833, 0.9247, 0.4497, 0.923, 0.2233, 0.9133, 0.2646, 0.0217, 0.49, 0.2284, 0.0888, 0.9355, 0.1243, 0.0859, 0.1838, 0.6278, 0.6458, 0.5961, 0.4635, 0.3483, 0.5256, 0.6142, 0.2144, 0.9036, 0.5886, 0.9171, 0.1771, 0.1996, 0.5464]\n",
      "[7.4004, 44.4012, 70.6346, 45.5059, 1.2433, 3.4213, 5.6772, 53.7036, 11.7683, 50.7593, 72.4181, 71.1689, 89.7523, 2.525, 0.3983, 35.9721, 16.9152, 35.0072, 14.6146, 3.1412, 38.1054, 20.5961, 56.601, 2.0614, 27.701, 9.1453, 3.1001, 0.5498, 15.7429, 22.6154, 44.5043, 48.4964, 6.1108, 7.4481, 16.2765, 38.1344, 29.5946, 52.6946, 12.0552, 20.1273, 16.7012, 56.7033, 22.8354, 8.9802, 61.643, 80.3885, 17.5791, 47.3944, 13.1489, 30.6041, 76.3372, 49.2791, 11.2558, 3.2978, 74.3502, 4.3703, 83.4326, 3.8085, 7.6787, 4.275, 12.7138, 32.2308, 9.4556, 17.9663, 29.9978, 6.7182, 7.2203, 73.0763, 21.1248, 24.1816, 8.2026, 15.5797, 36.9893, 6.296, 43.3828, 20.9938, 31.0506, 14.2903, 1.5179, 34.2983, 18.499, 6.3073, 72.0347, 4.1029, 8.3361, 0.7352, 61.5267, 16.7896, 34.5715, 32.9069, 2.0897, 9.461, 51.5943, 19.7276, 19.8796, 54.7402, 55.0254, 8.6756, 14.9669, 23.494]\n",
      "(52.76, 0.534946, 52.76)\n",
      "(3.0, 0.0056, 3.0)\n",
      "(98.0, 0.9893, 98.0)\n"
     ]
    }
   ],
   "source": [
    "#parašykite klasę TxtAnalyzer, kuriai kreipimosi metu galima būtų nurodyti failo pavadinimą ir stulpelių skirtuką.\n",
    "#klasė sukūrimo metu turi nuskaityti failą, stulpelius skaičių suskirstyti į sąrašus ir juos priskirti atributams X, Y ir Z.\n",
    "#Realizuokite metodus, kurie grąžintų X, Y, Z sąrašų vidurkius, minimalias ir maksimalias vertes. Pythone yra min, max, sum funkcijos\n",
    "\n",
    "\n",
    "class TxtAnalyzer():\n",
    "    def __init__(self, pav, skirtukas):\n",
    "        self.pavadinimas = pav\n",
    "        self.skirt = skirtukas\n",
    "        self.x = []\n",
    "        self.y = []\n",
    "        self.z = []\n",
    "        pass\n",
    "    def TxtReader(self):\n",
    "        fname = self.pavadinimas\n",
    "        f = open(fname, mode='r', encoding='utf-8')\n",
    "        tekstas = f.readlines()\n",
    "        print(tekstas)\n",
    "        f.close()\n",
    "        for x in tekstas:\n",
    "            self.x.append(float(x.split(self.skirt)[0]))\n",
    "            self.y.append(float(x.split(self.skirt)[1]))\n",
    "            self.z.append(float(x.split(self.skirt)[2]))\n",
    "        print(self.x)\n",
    "        print(self.y)\n",
    "        print(self.z)\n",
    "    def Getvidurkis(self):\n",
    "      vidurkisX = sum(self.x)/len(self.x)\n",
    "      vidurkisY = sum(self.y)/len(self.y)\n",
    "      vidurkisZ = sum(self.z)/len(self.z)\n",
    "      \n",
    "      return vidurkisX, vidurkisY, vidurkisX\n",
    "    \n",
    "    def getMinimali(self):\n",
    "      minimaliX = min(self.x)\n",
    "      minimaliY = min(self.y)\n",
    "      minimaliZ = min(self.z)\n",
    "      return minimaliX, minimaliY, minimaliX\n",
    "      \n",
    "    def getMax(self):\n",
    "      minimaliX = max(self.x)\n",
    "      minimaliY = max(self.y)\n",
    "      minimaliZ = max(self.z)\n",
    "      return minimaliX, minimaliY, minimaliX\n",
    "\n",
    "\n",
    "\n",
    "z = TxtAnalyzer('data1.txt',';')\n",
    "z.TxtReader()\n",
    "print(z.Getvidurkis())\n",
    "print(z.getMinimali())\n",
    "print(z.getMax())"
   ]
  },
  {
   "cell_type": "code",
   "execution_count": null,
   "metadata": {},
   "outputs": [
    {
     "name": "stdout",
     "output_type": "stream",
     "text": [
      "X: \n",
      "Ave: 52.76\n",
      "Min: 3.0\n",
      "Max: 98.0\n",
      "\n",
      "Y: \n",
      "Ave: 0.534946\n",
      "Min: 0.0056\n",
      "Max: 0.9893\n",
      "\n",
      "Z: \n",
      "Ave: 27.449029\n",
      "Min: 0.3983\n",
      "Max: 89.7523\n"
     ]
    }
   ],
   "source": [
    "class TxtAnalyzer:\n",
    "    def __init__(self, fileName, dell=';'):\n",
    "        self.fileName = fileName\n",
    "        self.dell = dell\n",
    "        self.X, self.Y, self.Z = self.readFile()\n",
    "    def readFile(self):\n",
    "        X, Y, Z = [], [], []\n",
    "        try:\n",
    "             with open(self.fileName, 'r') as file:\n",
    "                for line in file:\n",
    "                    values = line.strip().split(self.dell)\n",
    "                    if len(values) == 3:\n",
    "                        X.append(float(values[0]))\n",
    "                        Y.append(float(values[1]))\n",
    "                        Z.append(float(values[2]))\n",
    "        except FileNotFoundError:\n",
    "            print(\"File not found!\")\n",
    "        return X, Y, Z\n",
    "    def Ave(self, data):\n",
    "        if data:\n",
    "            return sum(data)/len(data)\n",
    "        else:\n",
    "            return None\n",
    "    def Min(self, data):\n",
    "        if data:\n",
    "            return min(data)\n",
    "        else:\n",
    "            return None\n",
    "    def Max(self, data):\n",
    "        if data:\n",
    "            return max(data)\n",
    "        else:\n",
    "            return None\n",
    "fileName = \"data1.txt\"  \n",
    "analyzer = TxtAnalyzer(fileName)\n",
    "print(\"X: \")\n",
    "print(\"Ave:\", analyzer.Ave(analyzer.X))\n",
    "print(\"Min:\", analyzer.Min(analyzer.X))\n",
    "print(\"Max:\", analyzer.Max(analyzer.X))\n",
    "print(\"\\nY: \")\n",
    "print(\"Ave:\", analyzer.Ave(analyzer.Y))\n",
    "print(\"Min:\", analyzer.Min(analyzer.Y))\n",
    "print(\"Max:\", analyzer.Max(analyzer.Y))\n",
    "print(\"\\nZ: \")\n",
    "print(\"Ave:\", analyzer.Ave(analyzer.Z))\n",
    "print(\"Min:\", analyzer.Min(analyzer.Z))\n",
    "print(\"Max:\", analyzer.Max(analyzer.Z))"
   ]
  },
  {
   "cell_type": "code",
   "execution_count": 17,
   "metadata": {},
   "outputs": [
    {
     "name": "stdout",
     "output_type": "stream",
     "text": [
      "[0.25, 1.25, 2.25, 3.25, 4.25]\n"
     ]
    }
   ],
   "source": [
    "x = [1,2,3,4,5]\n",
    "\n",
    "naujas_x = []\n",
    "for skaicius in x:\n",
    "  naujas_x.append(skaicius - 0.75)\n",
    "print(naujas_x)\n",
    "  "
   ]
  },
  {
   "cell_type": "code",
   "execution_count": 1,
   "metadata": {},
   "outputs": [],
   "source": [
    "import numpy as np"
   ]
  },
  {
   "cell_type": "code",
   "execution_count": 13,
   "metadata": {},
   "outputs": [
    {
     "name": "stdout",
     "output_type": "stream",
     "text": [
      "[0 1 2 3 4 5 6 7 8 9]\n",
      "<class 'numpy.ndarray'>\n"
     ]
    }
   ],
   "source": [
    "# array\n",
    "x = np.arange(0,10)\n",
    "print(x)\n",
    "print(type(x))"
   ]
  },
  {
   "cell_type": "code",
   "execution_count": 14,
   "metadata": {},
   "outputs": [
    {
     "name": "stdout",
     "output_type": "stream",
     "text": [
      "[0 2 4 6 8]\n",
      "<class 'numpy.ndarray'>\n"
     ]
    }
   ],
   "source": [
    "# array\n",
    "x = np.arange(0,10,2) # kas antra skaiciu\n",
    "print(x)\n",
    "print(type(x))"
   ]
  },
  {
   "cell_type": "code",
   "execution_count": 15,
   "metadata": {},
   "outputs": [
    {
     "name": "stdout",
     "output_type": "stream",
     "text": [
      "[-0.75  1.25  3.25  5.25  7.25]\n"
     ]
    }
   ],
   "source": [
    "y = x - 0.75\n",
    "print(y)"
   ]
  },
  {
   "cell_type": "code",
   "execution_count": 18,
   "metadata": {},
   "outputs": [
    {
     "ename": "TypeError",
     "evalue": "min() missing 1 required positional argument: 'a'",
     "output_type": "error",
     "traceback": [
      "\u001b[1;31m---------------------------------------------------------------------------\u001b[0m",
      "\u001b[1;31mTypeError\u001b[0m                                 Traceback (most recent call last)",
      "Cell \u001b[1;32mIn[18], line 2\u001b[0m\n\u001b[0;32m      1\u001b[0m np\u001b[38;5;241m.\u001b[39maverage(\u001b[38;5;241m12\u001b[39m)\n\u001b[1;32m----> 2\u001b[0m \u001b[43mnp\u001b[49m\u001b[38;5;241;43m.\u001b[39;49m\u001b[43mmin\u001b[49m\u001b[43m(\u001b[49m\u001b[43m)\u001b[49m\n\u001b[0;32m      3\u001b[0m np\u001b[38;5;241m.\u001b[39mmean() \u001b[38;5;66;03m# vidurkis\u001b[39;00m\n\u001b[0;32m      4\u001b[0m np\u001b[38;5;241m.\u001b[39mmedian()\n",
      "\u001b[1;31mTypeError\u001b[0m: min() missing 1 required positional argument: 'a'"
     ]
    }
   ],
   "source": [
    "np.average()\n",
    "np.min()\n",
    "np.mean() # vidurkis\n",
    "np.median()"
   ]
  },
  {
   "cell_type": "code",
   "execution_count": 19,
   "metadata": {},
   "outputs": [
    {
     "name": "stdout",
     "output_type": "stream",
     "text": [
      "[1, 2, 3, 4, 5, 6, 7, 8, 9, 10]\n"
     ]
    }
   ],
   "source": [
    "a_list = [i for i in range(1,11)]\n",
    "print(a_list)"
   ]
  },
  {
   "cell_type": "code",
   "execution_count": 21,
   "metadata": {},
   "outputs": [
    {
     "name": "stdout",
     "output_type": "stream",
     "text": [
      "[ 1.75  2.75  3.75  4.75  5.75  6.75  7.75  8.75  9.75 10.75]\n"
     ]
    }
   ],
   "source": [
    "a_array = np.asarray(a_list)\n",
    "print(a_array+0.75)"
   ]
  },
  {
   "cell_type": "code",
   "execution_count": 27,
   "metadata": {},
   "outputs": [
    {
     "name": "stdout",
     "output_type": "stream",
     "text": [
      "[ 1  8 15]\n"
     ]
    }
   ],
   "source": [
    "x = [1,2,3]\n",
    "y = [1,4,5]\n",
    "x_np = np.asarray(x)\n",
    "y_np = np.asarray(y)\n",
    "c = x_np*y_np\n",
    "print(c)"
   ]
  },
  {
   "cell_type": "code",
   "execution_count": null,
   "metadata": {},
   "outputs": [],
   "source": [
    "np.min(x)\n",
    "np.max(y_np)"
   ]
  },
  {
   "cell_type": "code",
   "execution_count": 29,
   "metadata": {},
   "outputs": [
    {
     "name": "stdout",
     "output_type": "stream",
     "text": [
      "[7 4 0 7 9 3 8 7 4 5 9 8 1 1 8 0 0 1 8 3 9 7 7 3 8 6 0 9 2 7 2 7 4 9 8 0 7\n",
      " 1 8 0 7 2 7 0 2 5 2 6 4 6 3 3 8 0 1 6 9 3 3 3 4 3 9 9 2 7 2 5 6 6 5 4 5 0\n",
      " 2 4 8 6 7 8 5 4 0 3 2 1 9 2 6 4 5 4 7 6 0 3 1 6 6 4]\n"
     ]
    }
   ],
   "source": [
    "atsitiktinis=np.random.randint(0,10,100) # patys nurodom ribas kokius skaicius generuoti\n",
    "print(atsitiktinis)"
   ]
  },
  {
   "cell_type": "code",
   "execution_count": 31,
   "metadata": {},
   "outputs": [
    {
     "name": "stdout",
     "output_type": "stream",
     "text": [
      "[0.81130766 0.43586636 0.49640549 0.97928232 0.59715507 0.33463867\n",
      " 0.27962216 0.52228272 0.73643704 0.65498538 0.97196581 0.20608719\n",
      " 0.71668739 0.75166138 0.1987136  0.4736748  0.57579684 0.12991291\n",
      " 0.9358751  0.13735177 0.95626871 0.92007274 0.08796714 0.26784784\n",
      " 0.3859453  0.24570411 0.66218231 0.37941876 0.13840522 0.34122315\n",
      " 0.07340406 0.26258969 0.56716274 0.2880725  0.1286532  0.99868519\n",
      " 0.84953142 0.53749411 0.05396732 0.63723016 0.38200099 0.82133032\n",
      " 0.19879407 0.28455009 0.95638941 0.29858626 0.91799437 0.17004133\n",
      " 0.21195074 0.75662121 0.73220808 0.5463925  0.49775268 0.66072938\n",
      " 0.3387616  0.73450816 0.35518224 0.04469091 0.3307817  0.4235737\n",
      " 0.79777327 0.20612924 0.53391781 0.70747891 0.87759645 0.87376144\n",
      " 0.30656566 0.73599704 0.85218418 0.15767714 0.34619088 0.95583215\n",
      " 0.10159915 0.09905372 0.51046309 0.56686873 0.77878661 0.73763801\n",
      " 0.5368396  0.87804466 0.68255669 0.61975659 0.91148475 0.89211892\n",
      " 0.30250758 0.67487959 0.74790901 0.93090569 0.13600543 0.67168437\n",
      " 0.49884789 0.67532699 0.83519271 0.44781937 0.88288039 0.66051735\n",
      " 0.86522984 0.55791916 0.43012503 0.23682273]\n"
     ]
    }
   ],
   "source": [
    "atsitiktinis_float = np.random.rand(100) #0-1 tik skaicius\n",
    "print(atsitiktinis_float)"
   ]
  },
  {
   "cell_type": "code",
   "execution_count": 39,
   "metadata": {},
   "outputs": [
    {
     "name": "stdout",
     "output_type": "stream",
     "text": [
      "4.87\n",
      "4.87\n"
     ]
    }
   ],
   "source": [
    "xas = np.random.randint(1,10,100)\n",
    "svoriai = np.random.rand(100)\n",
    "#mean ir average\n",
    "vidurkis = np.mean(xas)\n",
    "print(vidurkis)\n",
    "sv_vid = np.average(xas)\n",
    "print(sv_vid)\n"
   ]
  },
  {
   "cell_type": "code",
   "execution_count": 38,
   "metadata": {},
   "outputs": [
    {
     "name": "stdout",
     "output_type": "stream",
     "text": [
      "5.01\n",
      "4.9038813262229\n"
     ]
    }
   ],
   "source": [
    "xas = np.random.randint(1,10,100)\n",
    "svoriai = np.random.rand(100)\n",
    "#mean ir average\n",
    "vidurkis = np.mean(xas)\n",
    "print(vidurkis)\n",
    "sv_vid = np.average(xas, weights=svoriai)\n",
    "print(sv_vid)"
   ]
  },
  {
   "cell_type": "code",
   "execution_count": 40,
   "metadata": {},
   "outputs": [
    {
     "name": "stdout",
     "output_type": "stream",
     "text": [
      "5.29\n",
      "5.1714378486403625\n",
      "6.0\n"
     ]
    }
   ],
   "source": [
    "xas = np.random.randint(1,10,100)\n",
    "svoriai = np.random.rand(100)\n",
    "#mean ir average\n",
    "vidurkis = np.mean(xas)\n",
    "print(vidurkis)\n",
    "sv_vid = np.average(xas, weights=svoriai)\n",
    "print(sv_vid)\n",
    "#median()\n",
    "medx= np.median(xas)\n",
    "print(medx)"
   ]
  },
  {
   "cell_type": "code",
   "execution_count": 41,
   "metadata": {},
   "outputs": [
    {
     "name": "stdout",
     "output_type": "stream",
     "text": [
      "5.06\n",
      "5.256578532274551\n",
      "6.0 1 9\n"
     ]
    }
   ],
   "source": [
    "xas = np.random.randint(1,10,100)\n",
    "svoriai = np.random.rand(100)\n",
    "#mean ir average\n",
    "vidurkis = np.mean(xas)\n",
    "print(vidurkis)\n",
    "sv_vid = np.average(xas, weights=svoriai)\n",
    "print(sv_vid)\n",
    "#median()\n",
    "medx= np.median(xas)\n",
    "print(medx, np.min(xas), np.max(xas))"
   ]
  },
  {
   "cell_type": "code",
   "execution_count": 53,
   "metadata": {},
   "outputs": [
    {
     "name": "stdout",
     "output_type": "stream",
     "text": [
      "[ 1.          1.64285714  2.28571429  2.92857143  3.57142857  4.21428571\n",
      "  4.85714286  5.5         6.14285714  6.78571429  7.42857143  8.07142857\n",
      "  8.71428571  9.35714286 10.        ]\n"
     ]
    }
   ],
   "source": [
    "l = np.linspace(1,10,15)\n",
    "print(l)"
   ]
  },
  {
   "cell_type": "code",
   "execution_count": 50,
   "metadata": {},
   "outputs": [
    {
     "name": "stdout",
     "output_type": "stream",
     "text": [
      "[ 1.   1.9  2.8  3.7  4.6  5.5  6.4  7.3  8.2  9.1 10. ]\n"
     ]
    }
   ],
   "source": [
    "l = np.linspace(1,10,10, endpoint=False)\n",
    "print(l)"
   ]
  },
  {
   "cell_type": "code",
   "execution_count": 57,
   "metadata": {},
   "outputs": [
    {
     "name": "stdout",
     "output_type": "stream",
     "text": [
      "0\n",
      "4.5\n",
      "9\n"
     ]
    }
   ],
   "source": [
    "# asarray, arange, min, max,mean ,average,median\n",
    "n_np = np.arange(0,10)\n",
    "#kaip metodai:\n",
    "minn = n_np.min()\n",
    "print(minn)\n",
    "print(n_np.mean())\n",
    "print(n_np.max())"
   ]
  },
  {
   "cell_type": "code",
   "execution_count": 80,
   "metadata": {},
   "outputs": [
    {
     "name": "stdout",
     "output_type": "stream",
     "text": [
      "The autoreload extension is already loaded. To reload it, use:\n",
      "  %reload_ext autoreload\n"
     ]
    }
   ],
   "source": [
    "%load_ext autoreload"
   ]
  },
  {
   "cell_type": "code",
   "execution_count": 111,
   "metadata": {},
   "outputs": [],
   "source": [
    "%autoreload 2\n",
    "import modulis"
   ]
  },
  {
   "cell_type": "code",
   "execution_count": 86,
   "metadata": {},
   "outputs": [
    {
     "name": "stdout",
     "output_type": "stream",
     "text": [
      "60\n"
     ]
    }
   ],
   "source": [
    "print(modulis.A)"
   ]
  },
  {
   "cell_type": "code",
   "execution_count": 87,
   "metadata": {},
   "outputs": [
    {
     "name": "stdout",
     "output_type": "stream",
     "text": [
      "As esu printA() xdd funkcijaxdd\n"
     ]
    }
   ],
   "source": [
    "modulis.printA()"
   ]
  },
  {
   "cell_type": "code",
   "execution_count": 91,
   "metadata": {},
   "outputs": [
    {
     "ename": "SyntaxError",
     "evalue": "invalid syntax (48948273.py, line 6)",
     "output_type": "error",
     "traceback": [
      "\u001b[1;36m  Cell \u001b[1;32mIn[91], line 6\u001b[1;36m\u001b[0m\n\u001b[1;33m    import Vehicle()\u001b[0m\n\u001b[1;37m                  ^\u001b[0m\n\u001b[1;31mSyntaxError\u001b[0m\u001b[1;31m:\u001b[0m invalid syntax\n"
     ]
    }
   ],
   "source": [
    "# iškelkite savo anksčiau rašytas Vehicle, Car, etc klases\n",
    "# į modulį\n",
    "# ir patikrinkite klasių veikimą\n",
    "# sukurdami kintamuosius ir patikrindami jų veikimą\n",
    "\n",
    "import Vehicle\n"
   ]
  },
  {
   "cell_type": "code",
   "execution_count": 113,
   "metadata": {},
   "outputs": [
    {
     "name": "stdout",
     "output_type": "stream",
     "text": [
      "pavadinimasturi 4 sedimu vietu\n",
      "pavadinimasturi 4 sedimu vietu\n",
      "pavadinimasturi 4 sedimu vietu\n"
     ]
    }
   ],
   "source": [
    "test = modulis.Car(P='pavadinimas',R=5000,S=4)\n",
    "\n",
    "print(test.GetSeats())\n",
    "test = modulis.Bus(P='pavadinimas',R=5000,S=4)\n",
    "\n",
    "print(test.GetSeats())  \n",
    "test = modulis.Train(P='pavadinimas',R=5000,S=4)\n",
    "\n",
    "print(test.GetSeats())"
   ]
  },
  {
   "cell_type": "code",
   "execution_count": 115,
   "metadata": {},
   "outputs": [
    {
     "name": "stdout",
     "output_type": "stream",
     "text": [
      "['U[V] ; I[A] ; j[mA/cm^2] ; P[mW/cm^2]\\n', '1.2 ; 0.0010878 ; 13.59755 ; 16.31706\\n', '1.1766667 ; 0.0008779 ; 10.9735512 ; 12.912212\\n', '1.1533333 ; 0.000675 ; 8.4376562 ; 9.7314302\\n', '1.13 ; 0.0004624 ; 5.780055 ; 6.5314621\\n', '1.1066667 ; 0.0002595 ; 3.2442637 ; 3.5903185\\n', '1.0833333 ; 7.83e-05 ; 0.9787641 ; 1.0603278\\n', '1.06 ; -7.92e-05 ; -0.9902056 ; -1.049618\\n', '1.0366667 ; -0.0002111 ; -2.63856 ; -2.7353072\\n', '1.0133333 ; -0.0003275 ; -4.0936325 ; -4.1482143\\n', '0.99 ; -0.0004257 ; -5.3214875 ; -5.2682726\\n', '0.9666667 ; -0.0005053 ; -6.3163262 ; -6.105782\\n', '0.9433333 ; -0.0005775 ; -7.2184413 ; -6.8093962\\n', '0.92 ; -0.0006322 ; -7.9018762 ; -7.2697261\\n', '0.8966667 ; -0.0006841 ; -8.55161 ; -7.6679436\\n', '0.8733333 ; -0.0007236 ; -9.0446012 ; -7.8989518\\n', '0.85 ; -0.0007626 ; -9.5324562 ; -8.1025878\\n', '0.8266667 ; -0.0007935 ; -9.9188812 ; -8.1996085\\n', '0.8033333 ; -0.00082 ; -10.2496088 ; -8.2338524\\n', '0.78 ; -0.000844 ; -10.54984 ; -8.2288752\\n', '0.7566667 ; -0.0008673 ; -10.8409325 ; -8.2029723\\n', '0.7333333 ; -0.0008861 ; -11.0765737 ; -8.1228207\\n', '0.71 ; -0.0009078 ; -11.3475225 ; -8.056741\\n', '0.6866667 ; -0.0009232 ; -11.54044 ; -7.9244355\\n', '0.6633333 ; -0.0009366 ; -11.7071862 ; -7.7657669\\n', '0.64 ; -0.0009499 ; -11.8743688 ; -7.599596\\n', '0.6166667 ; -0.0009627 ; -12.0343163 ; -7.4211617\\n', '0.5933333 ; -0.0009703 ; -12.1289325 ; -7.1964999\\n', '0.57 ; -0.0009859 ; -12.3241412 ; -7.0247605\\n', '0.5466667 ; -0.0009944 ; -12.430245 ; -6.7952006\\n', '0.5233333 ; -0.0010052 ; -12.564875 ; -6.5756179\\n', '0.5 ; -0.0010112 ; -12.6399875 ; -6.3199937\\n', '0.4766667 ; -0.0010199 ; -12.748875 ; -6.0769637\\n', '0.4533333 ; -0.0010326 ; -12.9069375 ; -5.851145\\n', '0.43 ; -0.001036 ; -12.949525 ; -5.5682957\\n', '0.4066667 ; -0.0010445 ; -13.0564375 ; -5.3096179\\n', '0.3833333 ; -0.0010523 ; -13.1534625 ; -5.0421606\\n', '0.36 ; -0.0010578 ; -13.2229375 ; -4.7602575\\n', '0.3366667 ; -0.0010652 ; -13.315025 ; -4.4827251\\n', '0.3133333 ; -0.001071 ; -13.3871125 ; -4.1946286\\n', '0.29 ; -0.0010763 ; -13.454075 ; -3.9016817\\n', '0.2666667 ; -0.0010762 ; -13.4520625 ; -3.5872167\\n', '0.2433333 ; -0.0010847 ; -13.5591375 ; -3.2993901\\n', '0.22 ; -0.0010849 ; -13.5611375 ; -2.9834502\\n', '0.1966667 ; -0.0010945 ; -13.681475 ; -2.6906901\\n', '0.1733333 ; -0.0010986 ; -13.7326875 ; -2.3803325\\n', '0.15 ; -0.0010973 ; -13.7157375 ; -2.0573606\\n', '0.1266667 ; -0.0011029 ; -13.786125 ; -1.7462425\\n', '0.1033333 ; -0.0011123 ; -13.9040625 ; -1.4367531\\n', '0.08 ; -0.0011134 ; -13.9177125 ; -1.113417\\n', '0.0566667 ; -0.0011145 ; -13.9308875 ; -0.789417\\n', '0.0333333 ; -0.0011196 ; -13.99485 ; -0.466495\\n', '0.01 ; -0.0011251 ; -14.0638125 ; -0.1406381\\n', '-0.0133333 ; -0.0011315 ; -14.143925 ; 0.1885857\\n', '-0.0366667 ; -0.0011255 ; -14.069175 ; 0.5158698\\n', '-0.06 ; -0.0011356 ; -14.194875 ; 0.8516925\\n', '-0.0833333 ; -0.001135 ; -14.187575 ; 1.1822979\\n', '-0.1066667 ; -0.0011368 ; -14.209825 ; 1.5157147\\n', '-0.13 ; -0.0011369 ; -14.2107875 ; 1.8474024\\n', '-0.1533333 ; -0.0011401 ; -14.2518 ; 2.185276\\n', '-0.1766667 ; -0.0011429 ; -14.2859625 ; 2.5238534\\n', '-0.2 ; -0.0011471 ; -14.338775 ; 2.867755']\n",
      "[1.2, 1.1766667, 1.1533333, 1.13, 1.1066667, 1.0833333, 1.06, 1.0366667, 1.0133333, 0.99, 0.9666667, 0.9433333, 0.92, 0.8966667, 0.8733333, 0.85, 0.8266667, 0.8033333, 0.78, 0.7566667, 0.7333333, 0.71, 0.6866667, 0.6633333, 0.64, 0.6166667, 0.5933333, 0.57, 0.5466667, 0.5233333, 0.5, 0.4766667, 0.4533333, 0.43, 0.4066667, 0.3833333, 0.36, 0.3366667, 0.3133333, 0.29, 0.2666667, 0.2433333, 0.22, 0.1966667, 0.1733333, 0.15, 0.1266667, 0.1033333, 0.08, 0.0566667, 0.0333333, 0.01, -0.0133333, -0.0366667, -0.06, -0.0833333, -0.1066667, -0.13, -0.1533333, -0.1766667, -0.2]\n",
      "[0.0010878, 0.0008779, 0.000675, 0.0004624, 0.0002595, 7.83e-05, -7.92e-05, -0.0002111, -0.0003275, -0.0004257, -0.0005053, -0.0005775, -0.0006322, -0.0006841, -0.0007236, -0.0007626, -0.0007935, -0.00082, -0.000844, -0.0008673, -0.0008861, -0.0009078, -0.0009232, -0.0009366, -0.0009499, -0.0009627, -0.0009703, -0.0009859, -0.0009944, -0.0010052, -0.0010112, -0.0010199, -0.0010326, -0.001036, -0.0010445, -0.0010523, -0.0010578, -0.0010652, -0.001071, -0.0010763, -0.0010762, -0.0010847, -0.0010849, -0.0010945, -0.0010986, -0.0010973, -0.0011029, -0.0011123, -0.0011134, -0.0011145, -0.0011196, -0.0011251, -0.0011315, -0.0011255, -0.0011356, -0.001135, -0.0011368, -0.0011369, -0.0011401, -0.0011429, -0.0011471]\n",
      "[13.59755, 10.9735512, 8.4376562, 5.780055, 3.2442637, 0.9787641, -0.9902056, -2.63856, -4.0936325, -5.3214875, -6.3163262, -7.2184413, -7.9018762, -8.55161, -9.0446012, -9.5324562, -9.9188812, -10.2496088, -10.54984, -10.8409325, -11.0765737, -11.3475225, -11.54044, -11.7071862, -11.8743688, -12.0343163, -12.1289325, -12.3241412, -12.430245, -12.564875, -12.6399875, -12.748875, -12.9069375, -12.949525, -13.0564375, -13.1534625, -13.2229375, -13.315025, -13.3871125, -13.454075, -13.4520625, -13.5591375, -13.5611375, -13.681475, -13.7326875, -13.7157375, -13.786125, -13.9040625, -13.9177125, -13.9308875, -13.99485, -14.0638125, -14.143925, -14.069175, -14.194875, -14.187575, -14.209825, -14.2107875, -14.2518, -14.2859625, -14.338775]\n",
      "[16.31706, 12.912212, 9.7314302, 6.5314621, 3.5903185, 1.0603278, -1.049618, -2.7353072, -4.1482143, -5.2682726, -6.105782, -6.8093962, -7.2697261, -7.6679436, -7.8989518, -8.1025878, -8.1996085, -8.2338524, -8.2288752, -8.2029723, -8.1228207, -8.056741, -7.9244355, -7.7657669, -7.599596, -7.4211617, -7.1964999, -7.0247605, -6.7952006, -6.5756179, -6.3199937, -6.0769637, -5.851145, -5.5682957, -5.3096179, -5.0421606, -4.7602575, -4.4827251, -4.1946286, -3.9016817, -3.5872167, -3.2993901, -2.9834502, -2.6906901, -2.3803325, -2.0573606, -1.7462425, -1.4367531, -1.113417, -0.789417, -0.466495, -0.1406381, 0.1885857, 0.5158698, 0.8516925, 1.1822979, 1.5157147, 1.8474024, 2.185276, 2.5238534, 2.867755]\n",
      "1.63\n"
     ]
    }
   ],
   "source": [
    "#sukurkite failus nuskaitančią klasę, ji turi būti aprašyta jūsų kuriamame modulyje;\n",
    "#ta klasė turi nuskaityti pateiktą failą, ir suskaidyti stulpelius į sąrašus:\n",
    "#sąrašai I, U, j, P, duomenys iš juos iš atitinkamų taip pat pavadintų stulpelių\n",
    "#realizuokite tai, jog klasė rastų tokį dydį - maksimalų P, suskaičiuotų tokį dydį pce = Pmax / 1000 * 100%;\n",
    "#šie dydžiai turi būti pasiekiamį arba kaip atributas, arba galite įdėti metodą jam gauti\n",
    "class keturiolika_failu():\n",
    "    def __init__(self, Pavadinimas, Skirtukas):\n",
    "        self.Pavadinimas = Pavadinimas\n",
    "        self.Skirtukas = Skirtukas\n",
    "        self.I = []\n",
    "        self.U = []\n",
    "        self.j = []\n",
    "        self.p = []\n",
    "    def dataReader(self):\n",
    "        fname = self.Pavadinimas\n",
    "        file = open(fname, mode='r', encoding= 'utf-8')\n",
    "        sarasas = file.readlines() # suformuoja teksta kaip eiluciu sarasa\n",
    "        file.close()\n",
    "        print(sarasas) # pasitikrinam ar veikia\n",
    "        for eilute in sarasas[1::]:\n",
    "            self.I.append(float(eilute.split(self.Skirtukas)[0]))\n",
    "            self.U.append(float(eilute.split(self.Skirtukas)[1]))           \n",
    "            self.j.append(float(eilute.split(self.Skirtukas)[2]))\n",
    "            self.p.append(float(eilute.split(self.Skirtukas)[3].replace('\\n', '')))\n",
    "        print(self.I)\n",
    "        print(self.U) \n",
    "        print(self.j) \n",
    "        print(self.p) \n",
    "    def getPmax(self):\n",
    "        Pmax = (max(self.p))\n",
    "        return Pmax\n",
    "    \n",
    "    def getPCE(self):\n",
    "        Pmax= self.getPmax()\n",
    "        PCE = round((Pmax / 1000 * 100),2)\n",
    "        return PCE\n",
    "    \n",
    "sarasas = keturiolika_failu('REF_D_5k_FW_2.03.dat', ';') #pasitikrinam ar nuskaito info is failo\n",
    "sarasas.dataReader()\n",
    "print(sarasas.getPCE())\n",
    "\n",
    "\n"
   ]
  },
  {
   "cell_type": "code",
   "execution_count": 7,
   "metadata": {},
   "outputs": [
    {
     "name": "stdout",
     "output_type": "stream",
     "text": [
      "8.0\n",
      "9\n",
      "7\n",
      "7.5\n",
      "[8.0, 9.666666666666666, 7.0]\n"
     ]
    }
   ],
   "source": [
    "# Sukurkite Mokinys klasę, kuri turės mokinio vardą, pavardę ir sąrašą pažymių. Įtraukite metodus,\n",
    "# kurie skaičiuotų vidurkį, didžiausią ir mažiausią pažymį.\n",
    "\n",
    "# Sukurkite Abiturientas klasę, kuri paveldi Mokinys klasę ir prideda papildomą funkcionalumą, pvz.,\n",
    "# gebėjimą pridėti egzamino rezultatus ir skaičiuoti bendrą vidurkį, įskaitant ir egzamino rezultatus.\n",
    "\n",
    "# Sukurkite Mokykla klasę, kuri turės sąrašą Mokinys objektų. Įtraukite metodus, kurie leistų pridėti\n",
    "# naują mokinį, pašalinti mokinį, bei skaičiuoti visos mokyklos mokinių pažymių vidurkius.\n",
    "\n",
    "# Atnaujinkite Mokinys klasę taip, kad pažymių sąrašas būtų privatus. Sukurkite metodus, kurie\n",
    "# leistų saugiai pridėti ir gauti pažymius, užtikrinant, kad negalima būtų pridėti netinkamų pažymių\n",
    "# (pvz., neigiamų ar didesnių nei 10).\n",
    "\n",
    "# Klasės turi būti aprašytos jūsų kuriamame modulyje.\n",
    "# Klases tikrinimui importuokite taip, kad \n",
    "# NEREIKĖTŲ modulio pavadinimo prieš klasę naudoti.\n",
    "\n",
    "\n",
    "class Mokinys: \n",
    "  def __init__(self, vardas, pavarde, pazymiai): \n",
    "    self.vardas = vardas \n",
    "    self.pavarde = pavarde \n",
    "    self.__pazymiai = pazymiai\n",
    "  def vidurkis(self):\n",
    "    return sum(self.__pazymiai) / len(self.__pazymiai)\n",
    "\n",
    "  def didziausias_pazymys(self):\n",
    "    return max(self.__pazymiai)\n",
    "\n",
    "  def maziausias_pazymys(self):\n",
    "    return min(self.__pazymiai)\n",
    "  \n",
    "class Abiturientas(Mokinys): \n",
    "  def __init__(self, vardas, pavarde, pazymiai, egzaminas): \n",
    "    super().__init__(vardas, pavarde, pazymiai) \n",
    "    self.egzaminas = egzaminas\n",
    "    self.pazymiai = pazymiai\n",
    "  def bendras_vidurkis(self):\n",
    "    bendras_pazymiai = self.pazymiai + [self.egzaminas]\n",
    "    return sum(bendras_pazymiai) / len(bendras_pazymiai) \n",
    "  \n",
    "class Mokykla: \n",
    "  def __init__(self): \n",
    "    self.mokiniai = [] \n",
    "  def prideti_mokini(self, mokinys):\n",
    "    self.mokiniai.append(mokinys)\n",
    "\n",
    "  def pasalinti_mokini(self, mokinys):\n",
    "    self.mokiniai.remove(mokinys)\n",
    "\n",
    "  def visu_vidurkiai(self):\n",
    "    return [mokinys.vidurkis() for mokinys in self.mokiniai]\n",
    "  \n",
    "m1 = Mokinys('Jonas', 'Jonaitis', [8, 9, 7]) \n",
    "print(m1.vidurkis()) \n",
    "print(m1.didziausias_pazymys()) \n",
    "print(m1.maziausias_pazymys())\n",
    "\n",
    "a1 = Abiturientas('Petras', 'Petraitis', [8,6,7], 9) \n",
    "print(a1.bendras_vidurkis())\n",
    "\n",
    "m2 = Mokinys('Ona', 'Onaite', [9, 10, 10]) \n",
    "m3 = Mokinys('Antanas', 'Antanaitis', [7, 8, 6])\n",
    "\n",
    "mokykla = Mokykla() \n",
    "mokykla.prideti_mokini(m1) \n",
    "mokykla.prideti_mokini(m2) \n",
    "mokykla.prideti_mokini(m3)\n",
    "\n",
    "print(mokykla.visu_vidurkiai())  "
   ]
  },
  {
   "cell_type": "code",
   "execution_count": 9,
   "metadata": {},
   "outputs": [],
   "source": [
    "import pandas"
   ]
  },
  {
   "cell_type": "code",
   "execution_count": null,
   "metadata": {},
   "outputs": [],
   "source": []
  }
 ],
 "metadata": {
  "kernelspec": {
   "display_name": "Python 3",
   "language": "python",
   "name": "python3"
  },
  "language_info": {
   "codemirror_mode": {
    "name": "ipython",
    "version": 3
   },
   "file_extension": ".py",
   "mimetype": "text/x-python",
   "name": "python",
   "nbconvert_exporter": "python",
   "pygments_lexer": "ipython3",
   "version": "3.12.2"
  }
 },
 "nbformat": 4,
 "nbformat_minor": 2
}
